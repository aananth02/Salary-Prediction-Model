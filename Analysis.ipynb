{
 "cells": [
  {
   "cell_type": "markdown",
   "metadata": {},
   "source": [
    "# Salary Prediction for STEM Based Jobs"
   ]
  },
  {
   "cell_type": "markdown",
   "metadata": {},
   "source": [
    "--> Analysis of a Dataset that contains information about STEM Based salaries (Source: Kaggle).\n",
    "\n",
    "--> Creating and Implementing a Machine Learning Model to Predict the salary of an employee.\n",
    "\n",
    "--> Analyzing the data and drawing conclusions.\n"
   ]
  },
  {
   "cell_type": "markdown",
   "metadata": {},
   "source": [
    "## Understanding the Data"
   ]
  },
  {
   "cell_type": "markdown",
   "metadata": {},
   "source": [
    "### Importing the Necessary Libraries"
   ]
  },
  {
   "cell_type": "code",
   "execution_count": 29,
   "metadata": {},
   "outputs": [],
   "source": [
    "import pandas as pd\n",
    "from scipy import stats\n",
    "import matplotlib.pyplot as plt\n",
    "import seaborn as sns\n",
    "from sklearn.linear_model import LinearRegression\n",
    "from sklearn.cluster import KMeans\n",
    "from sklearn.metrics import explained_variance_score"
   ]
  },
  {
   "cell_type": "markdown",
   "metadata": {},
   "source": [
    "### Displaying the DataSet and some Basic Information"
   ]
  },
  {
   "cell_type": "code",
   "execution_count": 30,
   "metadata": {},
   "outputs": [
    {
     "data": {
      "text/html": [
       "<div>\n",
       "<style scoped>\n",
       "    .dataframe tbody tr th:only-of-type {\n",
       "        vertical-align: middle;\n",
       "    }\n",
       "\n",
       "    .dataframe tbody tr th {\n",
       "        vertical-align: top;\n",
       "    }\n",
       "\n",
       "    .dataframe thead th {\n",
       "        text-align: right;\n",
       "    }\n",
       "</style>\n",
       "<table border=\"1\" class=\"dataframe\">\n",
       "  <thead>\n",
       "    <tr style=\"text-align: right;\">\n",
       "      <th></th>\n",
       "      <th>timestamp</th>\n",
       "      <th>company</th>\n",
       "      <th>level</th>\n",
       "      <th>title</th>\n",
       "      <th>totalyearlycompensation</th>\n",
       "      <th>location</th>\n",
       "      <th>yearsofexperience</th>\n",
       "      <th>yearsatcompany</th>\n",
       "      <th>tag</th>\n",
       "      <th>basesalary</th>\n",
       "      <th>...</th>\n",
       "      <th>Doctorate_Degree</th>\n",
       "      <th>Highschool</th>\n",
       "      <th>Some_College</th>\n",
       "      <th>Race_Asian</th>\n",
       "      <th>Race_White</th>\n",
       "      <th>Race_Two_Or_More</th>\n",
       "      <th>Race_Black</th>\n",
       "      <th>Race_Hispanic</th>\n",
       "      <th>Race</th>\n",
       "      <th>Education</th>\n",
       "    </tr>\n",
       "  </thead>\n",
       "  <tbody>\n",
       "    <tr>\n",
       "      <th>0</th>\n",
       "      <td>6/7/2017 11:33:27</td>\n",
       "      <td>Oracle</td>\n",
       "      <td>L3</td>\n",
       "      <td>Product Manager</td>\n",
       "      <td>127000</td>\n",
       "      <td>Redwood City, CA</td>\n",
       "      <td>1.5</td>\n",
       "      <td>1.5</td>\n",
       "      <td>NaN</td>\n",
       "      <td>107000.0</td>\n",
       "      <td>...</td>\n",
       "      <td>0</td>\n",
       "      <td>0</td>\n",
       "      <td>0</td>\n",
       "      <td>0</td>\n",
       "      <td>0</td>\n",
       "      <td>0</td>\n",
       "      <td>0</td>\n",
       "      <td>0</td>\n",
       "      <td>NaN</td>\n",
       "      <td>NaN</td>\n",
       "    </tr>\n",
       "    <tr>\n",
       "      <th>1</th>\n",
       "      <td>6/10/2017 17:11:29</td>\n",
       "      <td>eBay</td>\n",
       "      <td>SE 2</td>\n",
       "      <td>Software Engineer</td>\n",
       "      <td>100000</td>\n",
       "      <td>San Francisco, CA</td>\n",
       "      <td>5.0</td>\n",
       "      <td>3.0</td>\n",
       "      <td>NaN</td>\n",
       "      <td>0.0</td>\n",
       "      <td>...</td>\n",
       "      <td>0</td>\n",
       "      <td>0</td>\n",
       "      <td>0</td>\n",
       "      <td>0</td>\n",
       "      <td>0</td>\n",
       "      <td>0</td>\n",
       "      <td>0</td>\n",
       "      <td>0</td>\n",
       "      <td>NaN</td>\n",
       "      <td>NaN</td>\n",
       "    </tr>\n",
       "    <tr>\n",
       "      <th>2</th>\n",
       "      <td>6/11/2017 14:53:57</td>\n",
       "      <td>Amazon</td>\n",
       "      <td>L7</td>\n",
       "      <td>Product Manager</td>\n",
       "      <td>310000</td>\n",
       "      <td>Seattle, WA</td>\n",
       "      <td>8.0</td>\n",
       "      <td>0.0</td>\n",
       "      <td>NaN</td>\n",
       "      <td>155000.0</td>\n",
       "      <td>...</td>\n",
       "      <td>0</td>\n",
       "      <td>0</td>\n",
       "      <td>0</td>\n",
       "      <td>0</td>\n",
       "      <td>0</td>\n",
       "      <td>0</td>\n",
       "      <td>0</td>\n",
       "      <td>0</td>\n",
       "      <td>NaN</td>\n",
       "      <td>NaN</td>\n",
       "    </tr>\n",
       "    <tr>\n",
       "      <th>3</th>\n",
       "      <td>6/17/2017 0:23:14</td>\n",
       "      <td>Apple</td>\n",
       "      <td>M1</td>\n",
       "      <td>Software Engineering Manager</td>\n",
       "      <td>372000</td>\n",
       "      <td>Sunnyvale, CA</td>\n",
       "      <td>7.0</td>\n",
       "      <td>5.0</td>\n",
       "      <td>NaN</td>\n",
       "      <td>157000.0</td>\n",
       "      <td>...</td>\n",
       "      <td>0</td>\n",
       "      <td>0</td>\n",
       "      <td>0</td>\n",
       "      <td>0</td>\n",
       "      <td>0</td>\n",
       "      <td>0</td>\n",
       "      <td>0</td>\n",
       "      <td>0</td>\n",
       "      <td>NaN</td>\n",
       "      <td>NaN</td>\n",
       "    </tr>\n",
       "    <tr>\n",
       "      <th>4</th>\n",
       "      <td>6/20/2017 10:58:51</td>\n",
       "      <td>Microsoft</td>\n",
       "      <td>60</td>\n",
       "      <td>Software Engineer</td>\n",
       "      <td>157000</td>\n",
       "      <td>Mountain View, CA</td>\n",
       "      <td>5.0</td>\n",
       "      <td>3.0</td>\n",
       "      <td>NaN</td>\n",
       "      <td>0.0</td>\n",
       "      <td>...</td>\n",
       "      <td>0</td>\n",
       "      <td>0</td>\n",
       "      <td>0</td>\n",
       "      <td>0</td>\n",
       "      <td>0</td>\n",
       "      <td>0</td>\n",
       "      <td>0</td>\n",
       "      <td>0</td>\n",
       "      <td>NaN</td>\n",
       "      <td>NaN</td>\n",
       "    </tr>\n",
       "  </tbody>\n",
       "</table>\n",
       "<p>5 rows × 29 columns</p>\n",
       "</div>"
      ],
      "text/plain": [
       "            timestamp    company level                         title  \\\n",
       "0   6/7/2017 11:33:27     Oracle    L3               Product Manager   \n",
       "1  6/10/2017 17:11:29       eBay  SE 2             Software Engineer   \n",
       "2  6/11/2017 14:53:57     Amazon    L7               Product Manager   \n",
       "3   6/17/2017 0:23:14      Apple    M1  Software Engineering Manager   \n",
       "4  6/20/2017 10:58:51  Microsoft    60             Software Engineer   \n",
       "\n",
       "   totalyearlycompensation           location  yearsofexperience  \\\n",
       "0                   127000   Redwood City, CA                1.5   \n",
       "1                   100000  San Francisco, CA                5.0   \n",
       "2                   310000        Seattle, WA                8.0   \n",
       "3                   372000      Sunnyvale, CA                7.0   \n",
       "4                   157000  Mountain View, CA                5.0   \n",
       "\n",
       "   yearsatcompany  tag  basesalary  ...  Doctorate_Degree  Highschool  \\\n",
       "0             1.5  NaN    107000.0  ...                 0           0   \n",
       "1             3.0  NaN         0.0  ...                 0           0   \n",
       "2             0.0  NaN    155000.0  ...                 0           0   \n",
       "3             5.0  NaN    157000.0  ...                 0           0   \n",
       "4             3.0  NaN         0.0  ...                 0           0   \n",
       "\n",
       "  Some_College Race_Asian  Race_White  Race_Two_Or_More  Race_Black  \\\n",
       "0            0          0           0                 0           0   \n",
       "1            0          0           0                 0           0   \n",
       "2            0          0           0                 0           0   \n",
       "3            0          0           0                 0           0   \n",
       "4            0          0           0                 0           0   \n",
       "\n",
       "   Race_Hispanic  Race  Education  \n",
       "0              0   NaN        NaN  \n",
       "1              0   NaN        NaN  \n",
       "2              0   NaN        NaN  \n",
       "3              0   NaN        NaN  \n",
       "4              0   NaN        NaN  \n",
       "\n",
       "[5 rows x 29 columns]"
      ]
     },
     "execution_count": 30,
     "metadata": {},
     "output_type": "execute_result"
    }
   ],
   "source": [
    "df = pd.read_csv('stem_salary_data.csv')\n",
    "df.head()"
   ]
  },
  {
   "cell_type": "code",
   "execution_count": 31,
   "metadata": {},
   "outputs": [
    {
     "name": "stdout",
     "output_type": "stream",
     "text": [
      "<class 'pandas.core.frame.DataFrame'>\n",
      "RangeIndex: 62642 entries, 0 to 62641\n",
      "Data columns (total 29 columns):\n",
      " #   Column                   Non-Null Count  Dtype  \n",
      "---  ------                   --------------  -----  \n",
      " 0   timestamp                62642 non-null  object \n",
      " 1   company                  62637 non-null  object \n",
      " 2   level                    62523 non-null  object \n",
      " 3   title                    62642 non-null  object \n",
      " 4   totalyearlycompensation  62642 non-null  int64  \n",
      " 5   location                 62642 non-null  object \n",
      " 6   yearsofexperience        62642 non-null  float64\n",
      " 7   yearsatcompany           62642 non-null  float64\n",
      " 8   tag                      61788 non-null  object \n",
      " 9   basesalary               62642 non-null  float64\n",
      " 10  stockgrantvalue          62642 non-null  float64\n",
      " 11  bonus                    62642 non-null  float64\n",
      " 12  gender                   43102 non-null  object \n",
      " 13  otherdetails             40137 non-null  object \n",
      " 14  cityid                   62642 non-null  int64  \n",
      " 15  dmaid                    62640 non-null  float64\n",
      " 16  rowNumber                62642 non-null  int64  \n",
      " 17  Masters_Degree           62642 non-null  int64  \n",
      " 18  Bachelors_Degree         62642 non-null  int64  \n",
      " 19  Doctorate_Degree         62642 non-null  int64  \n",
      " 20  Highschool               62642 non-null  int64  \n",
      " 21  Some_College             62642 non-null  int64  \n",
      " 22  Race_Asian               62642 non-null  int64  \n",
      " 23  Race_White               62642 non-null  int64  \n",
      " 24  Race_Two_Or_More         62642 non-null  int64  \n",
      " 25  Race_Black               62642 non-null  int64  \n",
      " 26  Race_Hispanic            62642 non-null  int64  \n",
      " 27  Race                     22427 non-null  object \n",
      " 28  Education                30370 non-null  object \n",
      "dtypes: float64(6), int64(13), object(10)\n",
      "memory usage: 13.9+ MB\n"
     ]
    }
   ],
   "source": [
    "df.info()"
   ]
  },
  {
   "cell_type": "code",
   "execution_count": 32,
   "metadata": {},
   "outputs": [
    {
     "data": {
      "text/html": [
       "<div>\n",
       "<style scoped>\n",
       "    .dataframe tbody tr th:only-of-type {\n",
       "        vertical-align: middle;\n",
       "    }\n",
       "\n",
       "    .dataframe tbody tr th {\n",
       "        vertical-align: top;\n",
       "    }\n",
       "\n",
       "    .dataframe thead th {\n",
       "        text-align: right;\n",
       "    }\n",
       "</style>\n",
       "<table border=\"1\" class=\"dataframe\">\n",
       "  <thead>\n",
       "    <tr style=\"text-align: right;\">\n",
       "      <th></th>\n",
       "      <th>totalyearlycompensation</th>\n",
       "      <th>yearsofexperience</th>\n",
       "      <th>yearsatcompany</th>\n",
       "      <th>basesalary</th>\n",
       "      <th>stockgrantvalue</th>\n",
       "      <th>bonus</th>\n",
       "      <th>cityid</th>\n",
       "      <th>dmaid</th>\n",
       "      <th>rowNumber</th>\n",
       "      <th>Masters_Degree</th>\n",
       "      <th>Bachelors_Degree</th>\n",
       "      <th>Doctorate_Degree</th>\n",
       "      <th>Highschool</th>\n",
       "      <th>Some_College</th>\n",
       "      <th>Race_Asian</th>\n",
       "      <th>Race_White</th>\n",
       "      <th>Race_Two_Or_More</th>\n",
       "      <th>Race_Black</th>\n",
       "      <th>Race_Hispanic</th>\n",
       "    </tr>\n",
       "  </thead>\n",
       "  <tbody>\n",
       "    <tr>\n",
       "      <th>count</th>\n",
       "      <td>6.264200e+04</td>\n",
       "      <td>62642.000000</td>\n",
       "      <td>62642.000000</td>\n",
       "      <td>6.264200e+04</td>\n",
       "      <td>6.264200e+04</td>\n",
       "      <td>62642.000000</td>\n",
       "      <td>62642.000000</td>\n",
       "      <td>62640.000000</td>\n",
       "      <td>62642.000000</td>\n",
       "      <td>62642.000000</td>\n",
       "      <td>62642.000000</td>\n",
       "      <td>62642.000000</td>\n",
       "      <td>62642.000000</td>\n",
       "      <td>62642.000000</td>\n",
       "      <td>62642.000000</td>\n",
       "      <td>62642.000000</td>\n",
       "      <td>62642.000000</td>\n",
       "      <td>62642.000000</td>\n",
       "      <td>62642.000000</td>\n",
       "    </tr>\n",
       "    <tr>\n",
       "      <th>mean</th>\n",
       "      <td>2.163004e+05</td>\n",
       "      <td>7.204135</td>\n",
       "      <td>2.702093</td>\n",
       "      <td>1.366873e+05</td>\n",
       "      <td>5.148608e+04</td>\n",
       "      <td>19334.746588</td>\n",
       "      <td>9856.201989</td>\n",
       "      <td>616.097222</td>\n",
       "      <td>41694.723732</td>\n",
       "      <td>0.245698</td>\n",
       "      <td>0.201223</td>\n",
       "      <td>0.028783</td>\n",
       "      <td>0.005108</td>\n",
       "      <td>0.005667</td>\n",
       "      <td>0.187925</td>\n",
       "      <td>0.128221</td>\n",
       "      <td>0.012835</td>\n",
       "      <td>0.011015</td>\n",
       "      <td>0.018039</td>\n",
       "    </tr>\n",
       "    <tr>\n",
       "      <th>std</th>\n",
       "      <td>1.380337e+05</td>\n",
       "      <td>5.840375</td>\n",
       "      <td>3.263656</td>\n",
       "      <td>6.136928e+04</td>\n",
       "      <td>8.187457e+04</td>\n",
       "      <td>26781.292040</td>\n",
       "      <td>6679.104563</td>\n",
       "      <td>289.843390</td>\n",
       "      <td>24488.865879</td>\n",
       "      <td>0.430504</td>\n",
       "      <td>0.400917</td>\n",
       "      <td>0.167196</td>\n",
       "      <td>0.071291</td>\n",
       "      <td>0.075067</td>\n",
       "      <td>0.390655</td>\n",
       "      <td>0.334338</td>\n",
       "      <td>0.112562</td>\n",
       "      <td>0.104373</td>\n",
       "      <td>0.133094</td>\n",
       "    </tr>\n",
       "    <tr>\n",
       "      <th>min</th>\n",
       "      <td>1.000000e+04</td>\n",
       "      <td>0.000000</td>\n",
       "      <td>0.000000</td>\n",
       "      <td>0.000000e+00</td>\n",
       "      <td>0.000000e+00</td>\n",
       "      <td>0.000000</td>\n",
       "      <td>0.000000</td>\n",
       "      <td>0.000000</td>\n",
       "      <td>1.000000</td>\n",
       "      <td>0.000000</td>\n",
       "      <td>0.000000</td>\n",
       "      <td>0.000000</td>\n",
       "      <td>0.000000</td>\n",
       "      <td>0.000000</td>\n",
       "      <td>0.000000</td>\n",
       "      <td>0.000000</td>\n",
       "      <td>0.000000</td>\n",
       "      <td>0.000000</td>\n",
       "      <td>0.000000</td>\n",
       "    </tr>\n",
       "    <tr>\n",
       "      <th>25%</th>\n",
       "      <td>1.350000e+05</td>\n",
       "      <td>3.000000</td>\n",
       "      <td>0.000000</td>\n",
       "      <td>1.080000e+05</td>\n",
       "      <td>0.000000e+00</td>\n",
       "      <td>1000.000000</td>\n",
       "      <td>7369.000000</td>\n",
       "      <td>506.000000</td>\n",
       "      <td>20069.250000</td>\n",
       "      <td>0.000000</td>\n",
       "      <td>0.000000</td>\n",
       "      <td>0.000000</td>\n",
       "      <td>0.000000</td>\n",
       "      <td>0.000000</td>\n",
       "      <td>0.000000</td>\n",
       "      <td>0.000000</td>\n",
       "      <td>0.000000</td>\n",
       "      <td>0.000000</td>\n",
       "      <td>0.000000</td>\n",
       "    </tr>\n",
       "    <tr>\n",
       "      <th>50%</th>\n",
       "      <td>1.880000e+05</td>\n",
       "      <td>6.000000</td>\n",
       "      <td>2.000000</td>\n",
       "      <td>1.400000e+05</td>\n",
       "      <td>2.500000e+04</td>\n",
       "      <td>14000.000000</td>\n",
       "      <td>7839.000000</td>\n",
       "      <td>807.000000</td>\n",
       "      <td>42019.000000</td>\n",
       "      <td>0.000000</td>\n",
       "      <td>0.000000</td>\n",
       "      <td>0.000000</td>\n",
       "      <td>0.000000</td>\n",
       "      <td>0.000000</td>\n",
       "      <td>0.000000</td>\n",
       "      <td>0.000000</td>\n",
       "      <td>0.000000</td>\n",
       "      <td>0.000000</td>\n",
       "      <td>0.000000</td>\n",
       "    </tr>\n",
       "    <tr>\n",
       "      <th>75%</th>\n",
       "      <td>2.640000e+05</td>\n",
       "      <td>10.000000</td>\n",
       "      <td>4.000000</td>\n",
       "      <td>1.700000e+05</td>\n",
       "      <td>6.500000e+04</td>\n",
       "      <td>26000.000000</td>\n",
       "      <td>11521.000000</td>\n",
       "      <td>807.000000</td>\n",
       "      <td>63021.750000</td>\n",
       "      <td>0.000000</td>\n",
       "      <td>0.000000</td>\n",
       "      <td>0.000000</td>\n",
       "      <td>0.000000</td>\n",
       "      <td>0.000000</td>\n",
       "      <td>0.000000</td>\n",
       "      <td>0.000000</td>\n",
       "      <td>0.000000</td>\n",
       "      <td>0.000000</td>\n",
       "      <td>0.000000</td>\n",
       "    </tr>\n",
       "    <tr>\n",
       "      <th>max</th>\n",
       "      <td>4.980000e+06</td>\n",
       "      <td>69.000000</td>\n",
       "      <td>69.000000</td>\n",
       "      <td>1.659870e+06</td>\n",
       "      <td>2.800000e+06</td>\n",
       "      <td>1000000.000000</td>\n",
       "      <td>47926.000000</td>\n",
       "      <td>881.000000</td>\n",
       "      <td>83875.000000</td>\n",
       "      <td>1.000000</td>\n",
       "      <td>1.000000</td>\n",
       "      <td>1.000000</td>\n",
       "      <td>1.000000</td>\n",
       "      <td>1.000000</td>\n",
       "      <td>1.000000</td>\n",
       "      <td>1.000000</td>\n",
       "      <td>1.000000</td>\n",
       "      <td>1.000000</td>\n",
       "      <td>1.000000</td>\n",
       "    </tr>\n",
       "  </tbody>\n",
       "</table>\n",
       "</div>"
      ],
      "text/plain": [
       "       totalyearlycompensation  yearsofexperience  yearsatcompany  \\\n",
       "count             6.264200e+04       62642.000000    62642.000000   \n",
       "mean              2.163004e+05           7.204135        2.702093   \n",
       "std               1.380337e+05           5.840375        3.263656   \n",
       "min               1.000000e+04           0.000000        0.000000   \n",
       "25%               1.350000e+05           3.000000        0.000000   \n",
       "50%               1.880000e+05           6.000000        2.000000   \n",
       "75%               2.640000e+05          10.000000        4.000000   \n",
       "max               4.980000e+06          69.000000       69.000000   \n",
       "\n",
       "         basesalary  stockgrantvalue           bonus        cityid  \\\n",
       "count  6.264200e+04     6.264200e+04    62642.000000  62642.000000   \n",
       "mean   1.366873e+05     5.148608e+04    19334.746588   9856.201989   \n",
       "std    6.136928e+04     8.187457e+04    26781.292040   6679.104563   \n",
       "min    0.000000e+00     0.000000e+00        0.000000      0.000000   \n",
       "25%    1.080000e+05     0.000000e+00     1000.000000   7369.000000   \n",
       "50%    1.400000e+05     2.500000e+04    14000.000000   7839.000000   \n",
       "75%    1.700000e+05     6.500000e+04    26000.000000  11521.000000   \n",
       "max    1.659870e+06     2.800000e+06  1000000.000000  47926.000000   \n",
       "\n",
       "              dmaid     rowNumber  Masters_Degree  Bachelors_Degree  \\\n",
       "count  62640.000000  62642.000000    62642.000000      62642.000000   \n",
       "mean     616.097222  41694.723732        0.245698          0.201223   \n",
       "std      289.843390  24488.865879        0.430504          0.400917   \n",
       "min        0.000000      1.000000        0.000000          0.000000   \n",
       "25%      506.000000  20069.250000        0.000000          0.000000   \n",
       "50%      807.000000  42019.000000        0.000000          0.000000   \n",
       "75%      807.000000  63021.750000        0.000000          0.000000   \n",
       "max      881.000000  83875.000000        1.000000          1.000000   \n",
       "\n",
       "       Doctorate_Degree    Highschool  Some_College    Race_Asian  \\\n",
       "count      62642.000000  62642.000000  62642.000000  62642.000000   \n",
       "mean           0.028783      0.005108      0.005667      0.187925   \n",
       "std            0.167196      0.071291      0.075067      0.390655   \n",
       "min            0.000000      0.000000      0.000000      0.000000   \n",
       "25%            0.000000      0.000000      0.000000      0.000000   \n",
       "50%            0.000000      0.000000      0.000000      0.000000   \n",
       "75%            0.000000      0.000000      0.000000      0.000000   \n",
       "max            1.000000      1.000000      1.000000      1.000000   \n",
       "\n",
       "         Race_White  Race_Two_Or_More    Race_Black  Race_Hispanic  \n",
       "count  62642.000000      62642.000000  62642.000000   62642.000000  \n",
       "mean       0.128221          0.012835      0.011015       0.018039  \n",
       "std        0.334338          0.112562      0.104373       0.133094  \n",
       "min        0.000000          0.000000      0.000000       0.000000  \n",
       "25%        0.000000          0.000000      0.000000       0.000000  \n",
       "50%        0.000000          0.000000      0.000000       0.000000  \n",
       "75%        0.000000          0.000000      0.000000       0.000000  \n",
       "max        1.000000          1.000000      1.000000       1.000000  "
      ]
     },
     "execution_count": 32,
     "metadata": {},
     "output_type": "execute_result"
    }
   ],
   "source": [
    "df.describe()"
   ]
  },
  {
   "cell_type": "code",
   "execution_count": 33,
   "metadata": {},
   "outputs": [
    {
     "data": {
      "text/html": [
       "<div>\n",
       "<style scoped>\n",
       "    .dataframe tbody tr th:only-of-type {\n",
       "        vertical-align: middle;\n",
       "    }\n",
       "\n",
       "    .dataframe tbody tr th {\n",
       "        vertical-align: top;\n",
       "    }\n",
       "\n",
       "    .dataframe thead th {\n",
       "        text-align: right;\n",
       "    }\n",
       "</style>\n",
       "<table border=\"1\" class=\"dataframe\">\n",
       "  <thead>\n",
       "    <tr style=\"text-align: right;\">\n",
       "      <th></th>\n",
       "      <th>totalyearlycompensation</th>\n",
       "      <th>yearsofexperience</th>\n",
       "      <th>yearsatcompany</th>\n",
       "      <th>basesalary</th>\n",
       "      <th>stockgrantvalue</th>\n",
       "      <th>bonus</th>\n",
       "      <th>cityid</th>\n",
       "      <th>dmaid</th>\n",
       "      <th>rowNumber</th>\n",
       "      <th>Masters_Degree</th>\n",
       "      <th>Bachelors_Degree</th>\n",
       "      <th>Doctorate_Degree</th>\n",
       "      <th>Highschool</th>\n",
       "      <th>Some_College</th>\n",
       "      <th>Race_Asian</th>\n",
       "      <th>Race_White</th>\n",
       "      <th>Race_Two_Or_More</th>\n",
       "      <th>Race_Black</th>\n",
       "      <th>Race_Hispanic</th>\n",
       "    </tr>\n",
       "  </thead>\n",
       "  <tbody>\n",
       "    <tr>\n",
       "      <th>totalyearlycompensation</th>\n",
       "      <td>1.000000</td>\n",
       "      <td>0.422879</td>\n",
       "      <td>0.165802</td>\n",
       "      <td>0.672865</td>\n",
       "      <td>0.770756</td>\n",
       "      <td>0.489454</td>\n",
       "      <td>-0.110204</td>\n",
       "      <td>0.376346</td>\n",
       "      <td>-0.092622</td>\n",
       "      <td>0.018320</td>\n",
       "      <td>-0.139866</td>\n",
       "      <td>0.097179</td>\n",
       "      <td>-0.014831</td>\n",
       "      <td>-0.003380</td>\n",
       "      <td>-0.080072</td>\n",
       "      <td>-0.027802</td>\n",
       "      <td>-0.009623</td>\n",
       "      <td>-0.026741</td>\n",
       "      <td>-0.026145</td>\n",
       "    </tr>\n",
       "    <tr>\n",
       "      <th>yearsofexperience</th>\n",
       "      <td>0.422879</td>\n",
       "      <td>1.000000</td>\n",
       "      <td>0.522611</td>\n",
       "      <td>0.374437</td>\n",
       "      <td>0.289631</td>\n",
       "      <td>0.261051</td>\n",
       "      <td>-0.014100</td>\n",
       "      <td>0.030903</td>\n",
       "      <td>-0.002836</td>\n",
       "      <td>0.060310</td>\n",
       "      <td>-0.069468</td>\n",
       "      <td>-0.005380</td>\n",
       "      <td>0.011605</td>\n",
       "      <td>0.037925</td>\n",
       "      <td>-0.052659</td>\n",
       "      <td>0.064712</td>\n",
       "      <td>-0.013917</td>\n",
       "      <td>-0.022675</td>\n",
       "      <td>-0.002232</td>\n",
       "    </tr>\n",
       "    <tr>\n",
       "      <th>yearsatcompany</th>\n",
       "      <td>0.165802</td>\n",
       "      <td>0.522611</td>\n",
       "      <td>1.000000</td>\n",
       "      <td>0.145596</td>\n",
       "      <td>0.089492</td>\n",
       "      <td>0.108122</td>\n",
       "      <td>0.002984</td>\n",
       "      <td>0.043946</td>\n",
       "      <td>-0.012850</td>\n",
       "      <td>0.026109</td>\n",
       "      <td>-0.027487</td>\n",
       "      <td>0.001165</td>\n",
       "      <td>-0.005947</td>\n",
       "      <td>0.005718</td>\n",
       "      <td>-0.025888</td>\n",
       "      <td>0.047267</td>\n",
       "      <td>-0.014926</td>\n",
       "      <td>-0.027812</td>\n",
       "      <td>-0.007511</td>\n",
       "    </tr>\n",
       "    <tr>\n",
       "      <th>basesalary</th>\n",
       "      <td>0.672865</td>\n",
       "      <td>0.374437</td>\n",
       "      <td>0.145596</td>\n",
       "      <td>1.000000</td>\n",
       "      <td>0.468266</td>\n",
       "      <td>0.394352</td>\n",
       "      <td>-0.118651</td>\n",
       "      <td>0.425342</td>\n",
       "      <td>0.032603</td>\n",
       "      <td>0.084227</td>\n",
       "      <td>-0.104111</td>\n",
       "      <td>0.104320</td>\n",
       "      <td>-0.008534</td>\n",
       "      <td>0.006494</td>\n",
       "      <td>-0.053759</td>\n",
       "      <td>0.020324</td>\n",
       "      <td>0.002090</td>\n",
       "      <td>-0.008836</td>\n",
       "      <td>-0.008976</td>\n",
       "    </tr>\n",
       "    <tr>\n",
       "      <th>stockgrantvalue</th>\n",
       "      <td>0.770756</td>\n",
       "      <td>0.289631</td>\n",
       "      <td>0.089492</td>\n",
       "      <td>0.468266</td>\n",
       "      <td>1.000000</td>\n",
       "      <td>0.248151</td>\n",
       "      <td>-0.072429</td>\n",
       "      <td>0.227608</td>\n",
       "      <td>-0.041226</td>\n",
       "      <td>0.010720</td>\n",
       "      <td>-0.084676</td>\n",
       "      <td>0.080768</td>\n",
       "      <td>-0.008617</td>\n",
       "      <td>-0.001778</td>\n",
       "      <td>-0.040439</td>\n",
       "      <td>-0.020978</td>\n",
       "      <td>-0.006071</td>\n",
       "      <td>-0.029244</td>\n",
       "      <td>-0.020412</td>\n",
       "    </tr>\n",
       "    <tr>\n",
       "      <th>bonus</th>\n",
       "      <td>0.489454</td>\n",
       "      <td>0.261051</td>\n",
       "      <td>0.108122</td>\n",
       "      <td>0.394352</td>\n",
       "      <td>0.248151</td>\n",
       "      <td>1.000000</td>\n",
       "      <td>-0.036119</td>\n",
       "      <td>0.143506</td>\n",
       "      <td>-0.014753</td>\n",
       "      <td>0.031538</td>\n",
       "      <td>-0.062881</td>\n",
       "      <td>0.071844</td>\n",
       "      <td>-0.006916</td>\n",
       "      <td>-0.001873</td>\n",
       "      <td>-0.022997</td>\n",
       "      <td>-0.007798</td>\n",
       "      <td>0.001773</td>\n",
       "      <td>-0.004026</td>\n",
       "      <td>-0.006983</td>\n",
       "    </tr>\n",
       "    <tr>\n",
       "      <th>cityid</th>\n",
       "      <td>-0.110204</td>\n",
       "      <td>-0.014100</td>\n",
       "      <td>0.002984</td>\n",
       "      <td>-0.118651</td>\n",
       "      <td>-0.072429</td>\n",
       "      <td>-0.036119</td>\n",
       "      <td>1.000000</td>\n",
       "      <td>-0.104870</td>\n",
       "      <td>0.041289</td>\n",
       "      <td>-0.012902</td>\n",
       "      <td>0.053934</td>\n",
       "      <td>-0.018686</td>\n",
       "      <td>-0.012253</td>\n",
       "      <td>-0.005339</td>\n",
       "      <td>0.056143</td>\n",
       "      <td>-0.019097</td>\n",
       "      <td>-0.002999</td>\n",
       "      <td>0.012547</td>\n",
       "      <td>-0.003174</td>\n",
       "    </tr>\n",
       "    <tr>\n",
       "      <th>dmaid</th>\n",
       "      <td>0.376346</td>\n",
       "      <td>0.030903</td>\n",
       "      <td>0.043946</td>\n",
       "      <td>0.425342</td>\n",
       "      <td>0.227608</td>\n",
       "      <td>0.143506</td>\n",
       "      <td>-0.104870</td>\n",
       "      <td>1.000000</td>\n",
       "      <td>-0.202626</td>\n",
       "      <td>0.003325</td>\n",
       "      <td>-0.159571</td>\n",
       "      <td>0.040339</td>\n",
       "      <td>-0.038118</td>\n",
       "      <td>-0.009232</td>\n",
       "      <td>-0.093969</td>\n",
       "      <td>-0.087129</td>\n",
       "      <td>-0.009182</td>\n",
       "      <td>-0.005076</td>\n",
       "      <td>-0.010163</td>\n",
       "    </tr>\n",
       "    <tr>\n",
       "      <th>rowNumber</th>\n",
       "      <td>-0.092622</td>\n",
       "      <td>-0.002836</td>\n",
       "      <td>-0.012850</td>\n",
       "      <td>0.032603</td>\n",
       "      <td>-0.041226</td>\n",
       "      <td>-0.014753</td>\n",
       "      <td>0.041289</td>\n",
       "      <td>-0.202626</td>\n",
       "      <td>1.000000</td>\n",
       "      <td>0.181295</td>\n",
       "      <td>0.351730</td>\n",
       "      <td>0.029668</td>\n",
       "      <td>0.052255</td>\n",
       "      <td>0.050012</td>\n",
       "      <td>0.358515</td>\n",
       "      <td>0.261340</td>\n",
       "      <td>0.076943</td>\n",
       "      <td>0.068616</td>\n",
       "      <td>0.086191</td>\n",
       "    </tr>\n",
       "    <tr>\n",
       "      <th>Masters_Degree</th>\n",
       "      <td>0.018320</td>\n",
       "      <td>0.060310</td>\n",
       "      <td>0.026109</td>\n",
       "      <td>0.084227</td>\n",
       "      <td>0.010720</td>\n",
       "      <td>0.031538</td>\n",
       "      <td>-0.012902</td>\n",
       "      <td>0.003325</td>\n",
       "      <td>0.181295</td>\n",
       "      <td>1.000000</td>\n",
       "      <td>-0.286083</td>\n",
       "      <td>-0.076072</td>\n",
       "      <td>-0.040896</td>\n",
       "      <td>-0.043087</td>\n",
       "      <td>0.305903</td>\n",
       "      <td>0.036552</td>\n",
       "      <td>0.011023</td>\n",
       "      <td>0.014023</td>\n",
       "      <td>0.002330</td>\n",
       "    </tr>\n",
       "    <tr>\n",
       "      <th>Bachelors_Degree</th>\n",
       "      <td>-0.139866</td>\n",
       "      <td>-0.069468</td>\n",
       "      <td>-0.027487</td>\n",
       "      <td>-0.104111</td>\n",
       "      <td>-0.084676</td>\n",
       "      <td>-0.062881</td>\n",
       "      <td>0.053934</td>\n",
       "      <td>-0.159571</td>\n",
       "      <td>0.351730</td>\n",
       "      <td>-0.286083</td>\n",
       "      <td>1.000000</td>\n",
       "      <td>-0.086404</td>\n",
       "      <td>-0.035965</td>\n",
       "      <td>-0.037891</td>\n",
       "      <td>0.249846</td>\n",
       "      <td>0.352620</td>\n",
       "      <td>0.110800</td>\n",
       "      <td>0.104210</td>\n",
       "      <td>0.137807</td>\n",
       "    </tr>\n",
       "    <tr>\n",
       "      <th>Doctorate_Degree</th>\n",
       "      <td>0.097179</td>\n",
       "      <td>-0.005380</td>\n",
       "      <td>0.001165</td>\n",
       "      <td>0.104320</td>\n",
       "      <td>0.080768</td>\n",
       "      <td>0.071844</td>\n",
       "      <td>-0.018686</td>\n",
       "      <td>0.040339</td>\n",
       "      <td>0.029668</td>\n",
       "      <td>-0.076072</td>\n",
       "      <td>-0.086404</td>\n",
       "      <td>1.000000</td>\n",
       "      <td>-0.012336</td>\n",
       "      <td>-0.012996</td>\n",
       "      <td>0.034015</td>\n",
       "      <td>0.040215</td>\n",
       "      <td>0.000728</td>\n",
       "      <td>-0.006276</td>\n",
       "      <td>0.006080</td>\n",
       "    </tr>\n",
       "    <tr>\n",
       "      <th>Highschool</th>\n",
       "      <td>-0.014831</td>\n",
       "      <td>0.011605</td>\n",
       "      <td>-0.005947</td>\n",
       "      <td>-0.008534</td>\n",
       "      <td>-0.008617</td>\n",
       "      <td>-0.006916</td>\n",
       "      <td>-0.012253</td>\n",
       "      <td>-0.038118</td>\n",
       "      <td>0.052255</td>\n",
       "      <td>-0.040896</td>\n",
       "      <td>-0.035965</td>\n",
       "      <td>-0.012336</td>\n",
       "      <td>1.000000</td>\n",
       "      <td>-0.005410</td>\n",
       "      <td>-0.015555</td>\n",
       "      <td>0.113839</td>\n",
       "      <td>0.025649</td>\n",
       "      <td>0.013892</td>\n",
       "      <td>0.042445</td>\n",
       "    </tr>\n",
       "    <tr>\n",
       "      <th>Some_College</th>\n",
       "      <td>-0.003380</td>\n",
       "      <td>0.037925</td>\n",
       "      <td>0.005718</td>\n",
       "      <td>0.006494</td>\n",
       "      <td>-0.001778</td>\n",
       "      <td>-0.001873</td>\n",
       "      <td>-0.005339</td>\n",
       "      <td>-0.009232</td>\n",
       "      <td>0.050012</td>\n",
       "      <td>-0.043087</td>\n",
       "      <td>-0.037891</td>\n",
       "      <td>-0.012996</td>\n",
       "      <td>-0.005410</td>\n",
       "      <td>1.000000</td>\n",
       "      <td>-0.019441</td>\n",
       "      <td>0.122432</td>\n",
       "      <td>0.034845</td>\n",
       "      <td>0.036858</td>\n",
       "      <td>0.029714</td>\n",
       "    </tr>\n",
       "    <tr>\n",
       "      <th>Race_Asian</th>\n",
       "      <td>-0.080072</td>\n",
       "      <td>-0.052659</td>\n",
       "      <td>-0.025888</td>\n",
       "      <td>-0.053759</td>\n",
       "      <td>-0.040439</td>\n",
       "      <td>-0.022997</td>\n",
       "      <td>0.056143</td>\n",
       "      <td>-0.093969</td>\n",
       "      <td>0.358515</td>\n",
       "      <td>0.305903</td>\n",
       "      <td>0.249846</td>\n",
       "      <td>0.034015</td>\n",
       "      <td>-0.015555</td>\n",
       "      <td>-0.019441</td>\n",
       "      <td>1.000000</td>\n",
       "      <td>-0.184489</td>\n",
       "      <td>-0.054852</td>\n",
       "      <td>-0.050768</td>\n",
       "      <td>-0.064894</td>\n",
       "    </tr>\n",
       "    <tr>\n",
       "      <th>Race_White</th>\n",
       "      <td>-0.027802</td>\n",
       "      <td>0.064712</td>\n",
       "      <td>0.047267</td>\n",
       "      <td>0.020324</td>\n",
       "      <td>-0.020978</td>\n",
       "      <td>-0.007798</td>\n",
       "      <td>-0.019097</td>\n",
       "      <td>-0.087129</td>\n",
       "      <td>0.261340</td>\n",
       "      <td>0.036552</td>\n",
       "      <td>0.352620</td>\n",
       "      <td>0.040215</td>\n",
       "      <td>0.113839</td>\n",
       "      <td>0.122432</td>\n",
       "      <td>-0.184489</td>\n",
       "      <td>1.000000</td>\n",
       "      <td>-0.043730</td>\n",
       "      <td>-0.040474</td>\n",
       "      <td>-0.051980</td>\n",
       "    </tr>\n",
       "    <tr>\n",
       "      <th>Race_Two_Or_More</th>\n",
       "      <td>-0.009623</td>\n",
       "      <td>-0.013917</td>\n",
       "      <td>-0.014926</td>\n",
       "      <td>0.002090</td>\n",
       "      <td>-0.006071</td>\n",
       "      <td>0.001773</td>\n",
       "      <td>-0.002999</td>\n",
       "      <td>-0.009182</td>\n",
       "      <td>0.076943</td>\n",
       "      <td>0.011023</td>\n",
       "      <td>0.110800</td>\n",
       "      <td>0.000728</td>\n",
       "      <td>0.025649</td>\n",
       "      <td>0.034845</td>\n",
       "      <td>-0.054852</td>\n",
       "      <td>-0.043730</td>\n",
       "      <td>1.000000</td>\n",
       "      <td>-0.012034</td>\n",
       "      <td>-0.015455</td>\n",
       "    </tr>\n",
       "    <tr>\n",
       "      <th>Race_Black</th>\n",
       "      <td>-0.026741</td>\n",
       "      <td>-0.022675</td>\n",
       "      <td>-0.027812</td>\n",
       "      <td>-0.008836</td>\n",
       "      <td>-0.029244</td>\n",
       "      <td>-0.004026</td>\n",
       "      <td>0.012547</td>\n",
       "      <td>-0.005076</td>\n",
       "      <td>0.068616</td>\n",
       "      <td>0.014023</td>\n",
       "      <td>0.104210</td>\n",
       "      <td>-0.006276</td>\n",
       "      <td>0.013892</td>\n",
       "      <td>0.036858</td>\n",
       "      <td>-0.050768</td>\n",
       "      <td>-0.040474</td>\n",
       "      <td>-0.012034</td>\n",
       "      <td>1.000000</td>\n",
       "      <td>-0.014304</td>\n",
       "    </tr>\n",
       "    <tr>\n",
       "      <th>Race_Hispanic</th>\n",
       "      <td>-0.026145</td>\n",
       "      <td>-0.002232</td>\n",
       "      <td>-0.007511</td>\n",
       "      <td>-0.008976</td>\n",
       "      <td>-0.020412</td>\n",
       "      <td>-0.006983</td>\n",
       "      <td>-0.003174</td>\n",
       "      <td>-0.010163</td>\n",
       "      <td>0.086191</td>\n",
       "      <td>0.002330</td>\n",
       "      <td>0.137807</td>\n",
       "      <td>0.006080</td>\n",
       "      <td>0.042445</td>\n",
       "      <td>0.029714</td>\n",
       "      <td>-0.064894</td>\n",
       "      <td>-0.051980</td>\n",
       "      <td>-0.015455</td>\n",
       "      <td>-0.014304</td>\n",
       "      <td>1.000000</td>\n",
       "    </tr>\n",
       "  </tbody>\n",
       "</table>\n",
       "</div>"
      ],
      "text/plain": [
       "                         totalyearlycompensation  yearsofexperience  \\\n",
       "totalyearlycompensation                 1.000000           0.422879   \n",
       "yearsofexperience                       0.422879           1.000000   \n",
       "yearsatcompany                          0.165802           0.522611   \n",
       "basesalary                              0.672865           0.374437   \n",
       "stockgrantvalue                         0.770756           0.289631   \n",
       "bonus                                   0.489454           0.261051   \n",
       "cityid                                 -0.110204          -0.014100   \n",
       "dmaid                                   0.376346           0.030903   \n",
       "rowNumber                              -0.092622          -0.002836   \n",
       "Masters_Degree                          0.018320           0.060310   \n",
       "Bachelors_Degree                       -0.139866          -0.069468   \n",
       "Doctorate_Degree                        0.097179          -0.005380   \n",
       "Highschool                             -0.014831           0.011605   \n",
       "Some_College                           -0.003380           0.037925   \n",
       "Race_Asian                             -0.080072          -0.052659   \n",
       "Race_White                             -0.027802           0.064712   \n",
       "Race_Two_Or_More                       -0.009623          -0.013917   \n",
       "Race_Black                             -0.026741          -0.022675   \n",
       "Race_Hispanic                          -0.026145          -0.002232   \n",
       "\n",
       "                         yearsatcompany  basesalary  stockgrantvalue  \\\n",
       "totalyearlycompensation        0.165802    0.672865         0.770756   \n",
       "yearsofexperience              0.522611    0.374437         0.289631   \n",
       "yearsatcompany                 1.000000    0.145596         0.089492   \n",
       "basesalary                     0.145596    1.000000         0.468266   \n",
       "stockgrantvalue                0.089492    0.468266         1.000000   \n",
       "bonus                          0.108122    0.394352         0.248151   \n",
       "cityid                         0.002984   -0.118651        -0.072429   \n",
       "dmaid                          0.043946    0.425342         0.227608   \n",
       "rowNumber                     -0.012850    0.032603        -0.041226   \n",
       "Masters_Degree                 0.026109    0.084227         0.010720   \n",
       "Bachelors_Degree              -0.027487   -0.104111        -0.084676   \n",
       "Doctorate_Degree               0.001165    0.104320         0.080768   \n",
       "Highschool                    -0.005947   -0.008534        -0.008617   \n",
       "Some_College                   0.005718    0.006494        -0.001778   \n",
       "Race_Asian                    -0.025888   -0.053759        -0.040439   \n",
       "Race_White                     0.047267    0.020324        -0.020978   \n",
       "Race_Two_Or_More              -0.014926    0.002090        -0.006071   \n",
       "Race_Black                    -0.027812   -0.008836        -0.029244   \n",
       "Race_Hispanic                 -0.007511   -0.008976        -0.020412   \n",
       "\n",
       "                            bonus    cityid     dmaid  rowNumber  \\\n",
       "totalyearlycompensation  0.489454 -0.110204  0.376346  -0.092622   \n",
       "yearsofexperience        0.261051 -0.014100  0.030903  -0.002836   \n",
       "yearsatcompany           0.108122  0.002984  0.043946  -0.012850   \n",
       "basesalary               0.394352 -0.118651  0.425342   0.032603   \n",
       "stockgrantvalue          0.248151 -0.072429  0.227608  -0.041226   \n",
       "bonus                    1.000000 -0.036119  0.143506  -0.014753   \n",
       "cityid                  -0.036119  1.000000 -0.104870   0.041289   \n",
       "dmaid                    0.143506 -0.104870  1.000000  -0.202626   \n",
       "rowNumber               -0.014753  0.041289 -0.202626   1.000000   \n",
       "Masters_Degree           0.031538 -0.012902  0.003325   0.181295   \n",
       "Bachelors_Degree        -0.062881  0.053934 -0.159571   0.351730   \n",
       "Doctorate_Degree         0.071844 -0.018686  0.040339   0.029668   \n",
       "Highschool              -0.006916 -0.012253 -0.038118   0.052255   \n",
       "Some_College            -0.001873 -0.005339 -0.009232   0.050012   \n",
       "Race_Asian              -0.022997  0.056143 -0.093969   0.358515   \n",
       "Race_White              -0.007798 -0.019097 -0.087129   0.261340   \n",
       "Race_Two_Or_More         0.001773 -0.002999 -0.009182   0.076943   \n",
       "Race_Black              -0.004026  0.012547 -0.005076   0.068616   \n",
       "Race_Hispanic           -0.006983 -0.003174 -0.010163   0.086191   \n",
       "\n",
       "                         Masters_Degree  Bachelors_Degree  Doctorate_Degree  \\\n",
       "totalyearlycompensation        0.018320         -0.139866          0.097179   \n",
       "yearsofexperience              0.060310         -0.069468         -0.005380   \n",
       "yearsatcompany                 0.026109         -0.027487          0.001165   \n",
       "basesalary                     0.084227         -0.104111          0.104320   \n",
       "stockgrantvalue                0.010720         -0.084676          0.080768   \n",
       "bonus                          0.031538         -0.062881          0.071844   \n",
       "cityid                        -0.012902          0.053934         -0.018686   \n",
       "dmaid                          0.003325         -0.159571          0.040339   \n",
       "rowNumber                      0.181295          0.351730          0.029668   \n",
       "Masters_Degree                 1.000000         -0.286083         -0.076072   \n",
       "Bachelors_Degree              -0.286083          1.000000         -0.086404   \n",
       "Doctorate_Degree              -0.076072         -0.086404          1.000000   \n",
       "Highschool                    -0.040896         -0.035965         -0.012336   \n",
       "Some_College                  -0.043087         -0.037891         -0.012996   \n",
       "Race_Asian                     0.305903          0.249846          0.034015   \n",
       "Race_White                     0.036552          0.352620          0.040215   \n",
       "Race_Two_Or_More               0.011023          0.110800          0.000728   \n",
       "Race_Black                     0.014023          0.104210         -0.006276   \n",
       "Race_Hispanic                  0.002330          0.137807          0.006080   \n",
       "\n",
       "                         Highschool  Some_College  Race_Asian  Race_White  \\\n",
       "totalyearlycompensation   -0.014831     -0.003380   -0.080072   -0.027802   \n",
       "yearsofexperience          0.011605      0.037925   -0.052659    0.064712   \n",
       "yearsatcompany            -0.005947      0.005718   -0.025888    0.047267   \n",
       "basesalary                -0.008534      0.006494   -0.053759    0.020324   \n",
       "stockgrantvalue           -0.008617     -0.001778   -0.040439   -0.020978   \n",
       "bonus                     -0.006916     -0.001873   -0.022997   -0.007798   \n",
       "cityid                    -0.012253     -0.005339    0.056143   -0.019097   \n",
       "dmaid                     -0.038118     -0.009232   -0.093969   -0.087129   \n",
       "rowNumber                  0.052255      0.050012    0.358515    0.261340   \n",
       "Masters_Degree            -0.040896     -0.043087    0.305903    0.036552   \n",
       "Bachelors_Degree          -0.035965     -0.037891    0.249846    0.352620   \n",
       "Doctorate_Degree          -0.012336     -0.012996    0.034015    0.040215   \n",
       "Highschool                 1.000000     -0.005410   -0.015555    0.113839   \n",
       "Some_College              -0.005410      1.000000   -0.019441    0.122432   \n",
       "Race_Asian                -0.015555     -0.019441    1.000000   -0.184489   \n",
       "Race_White                 0.113839      0.122432   -0.184489    1.000000   \n",
       "Race_Two_Or_More           0.025649      0.034845   -0.054852   -0.043730   \n",
       "Race_Black                 0.013892      0.036858   -0.050768   -0.040474   \n",
       "Race_Hispanic              0.042445      0.029714   -0.064894   -0.051980   \n",
       "\n",
       "                         Race_Two_Or_More  Race_Black  Race_Hispanic  \n",
       "totalyearlycompensation         -0.009623   -0.026741      -0.026145  \n",
       "yearsofexperience               -0.013917   -0.022675      -0.002232  \n",
       "yearsatcompany                  -0.014926   -0.027812      -0.007511  \n",
       "basesalary                       0.002090   -0.008836      -0.008976  \n",
       "stockgrantvalue                 -0.006071   -0.029244      -0.020412  \n",
       "bonus                            0.001773   -0.004026      -0.006983  \n",
       "cityid                          -0.002999    0.012547      -0.003174  \n",
       "dmaid                           -0.009182   -0.005076      -0.010163  \n",
       "rowNumber                        0.076943    0.068616       0.086191  \n",
       "Masters_Degree                   0.011023    0.014023       0.002330  \n",
       "Bachelors_Degree                 0.110800    0.104210       0.137807  \n",
       "Doctorate_Degree                 0.000728   -0.006276       0.006080  \n",
       "Highschool                       0.025649    0.013892       0.042445  \n",
       "Some_College                     0.034845    0.036858       0.029714  \n",
       "Race_Asian                      -0.054852   -0.050768      -0.064894  \n",
       "Race_White                      -0.043730   -0.040474      -0.051980  \n",
       "Race_Two_Or_More                 1.000000   -0.012034      -0.015455  \n",
       "Race_Black                      -0.012034    1.000000      -0.014304  \n",
       "Race_Hispanic                   -0.015455   -0.014304       1.000000  "
      ]
     },
     "execution_count": 33,
     "metadata": {},
     "output_type": "execute_result"
    }
   ],
   "source": [
    "df.corr()"
   ]
  },
  {
   "cell_type": "markdown",
   "metadata": {},
   "source": [
    "--> Based on an initial look at the data, we can say that it is an extensive and detailed dataset which sould be able to povide us a lot of information.\n",
    "\n",
    "--> Due to the size of the dataset, ML models is expected to have a decent accuracy\n",
    "\n",
    "--> The Correlation Matrix, gives us a basic idea of how different parameters affect the salaries"
   ]
  },
  {
   "cell_type": "markdown",
   "metadata": {},
   "source": [
    "### Exploring the Data and Understanding more about it..."
   ]
  },
  {
   "cell_type": "markdown",
   "metadata": {},
   "source": [
    "#### What are the trends in Education"
   ]
  },
  {
   "cell_type": "code",
   "execution_count": 34,
   "metadata": {},
   "outputs": [
    {
     "name": "stdout",
     "output_type": "stream",
     "text": [
      "Education\n",
      "Bachelor's Degree    177845.409095\n",
      "Highschool           187731.250000\n",
      "Master's Degree      220731.076603\n",
      "PhD                  291865.531415\n",
      "Some College         210121.126761\n",
      "Name: totalyearlycompensation, dtype: float64\n"
     ]
    },
    {
     "data": {
      "image/png": "[encoded data removed]",
      "text/plain": [
       "<Figure size 1152x288 with 1 Axes>"
      ]
     },
     "metadata": {
      "needs_background": "light"
     },
     "output_type": "display_data"
    }
   ],
   "source": [
    "mean_data = df[\"totalyearlycompensation\"].groupby(df[\"Education\"]).agg(\"mean\")\n",
    "print(mean_data)\n",
    "mean_data.plot(kind=\"bar\",figsize=(16,4))\n",
    "plt.show()"
   ]
  },
  {
   "cell_type": "code",
   "execution_count": 35,
   "metadata": {},
   "outputs": [
    {
     "name": "stdout",
     "output_type": "stream",
     "text": [
      "Education\n",
      "Bachelor's Degree    12601\n",
      "Highschool             320\n",
      "Master's Degree      15391\n",
      "PhD                   1703\n",
      "Some College           355\n",
      "Name: totalyearlycompensation, dtype: int64\n"
     ]
    },
    {
     "data": {
      "image/png": "[encoded data removed]",
      "text/plain": [
       "<Figure size 1152x288 with 1 Axes>"
      ]
     },
     "metadata": {
      "needs_background": "light"
     },
     "output_type": "display_data"
    }
   ],
   "source": [
    "mean_data = df[\"totalyearlycompensation\"].groupby(df[\"Education\"]).agg('count')\n",
    "print(mean_data)\n",
    "mean_data.plot(kind=\"bar\",figsize=(16,4))\n",
    "plt.show()"
   ]
  },
  {
   "cell_type": "markdown",
   "metadata": {},
   "source": [
    "--> As far as yearly compensation is given, we can see that Ph.D.'s get a significantly higher yearly compensation\n",
    "\n",
    "--> Surpisingly bachelors and highschool have a similar statistical data\n",
    "\n",
    "--> But it is imperitive that we factor in cases of confounder's and also consider that the number of students in each field varies (as as shown above)\n",
    "\n",
    "--> I was surprised by the fact that there are more Masters graduating students than Undergraduate students."
   ]
  },
  {
   "cell_type": "markdown",
   "metadata": {},
   "source": [
    "#### Trends in Job Types"
   ]
  },
  {
   "cell_type": "code",
   "execution_count": 36,
   "metadata": {},
   "outputs": [
    {
     "name": "stdout",
     "output_type": "stream",
     "text": [
      "title\n",
      "Business Analyst                  885\n",
      "Data Scientist                   2578\n",
      "Hardware Engineer                2200\n",
      "Human Resources                   364\n",
      "Management Consultant             976\n",
      "Marketing                         710\n",
      "Mechanical Engineer               490\n",
      "Product Designer                 1516\n",
      "Product Manager                  4673\n",
      "Recruiter                         451\n",
      "Sales                             461\n",
      "Software Engineer               41231\n",
      "Software Engineering Manager     3569\n",
      "Solution Architect               1157\n",
      "Technical Program Manager        1381\n",
      "Name: totalyearlycompensation, dtype: int64\n"
     ]
    },
    {
     "data": {
      "image/png": "[encoded data removed]",
      "text/plain": [
       "<Figure size 1152x288 with 1 Axes>"
      ]
     },
     "metadata": {
      "needs_background": "light"
     },
     "output_type": "display_data"
    }
   ],
   "source": [
    "mean_data = df[\"totalyearlycompensation\"].groupby(df[\"title\"]).agg(\"count\")\n",
    "print(mean_data)\n",
    "mean_data.plot(kind=\"bar\",figsize=(16,4))\n",
    "plt.show()"
   ]
  },
  {
   "cell_type": "code",
   "execution_count": 37,
   "metadata": {},
   "outputs": [
    {
     "name": "stdout",
     "output_type": "stream",
     "text": [
      "title\n",
      "Business Analyst                129727.683616\n",
      "Data Scientist                  203656.710628\n",
      "Hardware Engineer               213655.000000\n",
      "Human Resources                 178711.538462\n",
      "Management Consultant           162795.081967\n",
      "Marketing                       198971.830986\n",
      "Mechanical Engineer             158442.857143\n",
      "Product Designer                207637.203166\n",
      "Product Manager                 257813.396105\n",
      "Recruiter                       155580.931264\n",
      "Sales                           214273.318872\n",
      "Software Engineer               205403.992287\n",
      "Software Engineering Manager    354635.752312\n",
      "Solution Architect              212736.387208\n",
      "Technical Program Manager       237099.927589\n",
      "Name: totalyearlycompensation, dtype: float64\n"
     ]
    },
    {
     "data": {
      "image/png": "[encoded data removed]",
      "text/plain": [
       "<Figure size 1152x288 with 1 Axes>"
      ]
     },
     "metadata": {
      "needs_background": "light"
     },
     "output_type": "display_data"
    }
   ],
   "source": [
    "mean_data = df[\"totalyearlycompensation\"].groupby(df[\"title\"]).agg(\"mean\")\n",
    "print(mean_data)\n",
    "mean_data.plot(kind=\"bar\",figsize=(16,4))\n",
    "plt.show()"
   ]
  },
  {
   "cell_type": "markdown",
   "metadata": {},
   "source": [
    "--> The most common job is that of a Software Engineer\n",
    "\n",
    "--> The highest paying job is that of a Software Engineer Manager"
   ]
  },
  {
   "cell_type": "markdown",
   "metadata": {},
   "source": [
    "#### Checking for Inequality in Gender\n",
    "\n",
    "--> In important issue that we must address\n",
    "\n",
    "--> Checking for Gender based inequality"
   ]
  },
  {
   "cell_type": "code",
   "execution_count": 38,
   "metadata": {},
   "outputs": [
    {
     "name": "stdout",
     "output_type": "stream",
     "text": [
      "gender\n",
      "Female                             195119.588513\n",
      "Male                               212446.977928\n",
      "Other                              232347.500000\n",
      "Title: Senior Software Engineer    205000.000000\n",
      "Name: totalyearlycompensation, dtype: float64\n"
     ]
    },
    {
     "data": {
      "image/png": "[encoded data removed]",
      "text/plain": [
       "<Figure size 1152x288 with 1 Axes>"
      ]
     },
     "metadata": {
      "needs_background": "light"
     },
     "output_type": "display_data"
    }
   ],
   "source": [
    "mean_data = df[\"totalyearlycompensation\"].groupby(df[\"gender\"]).agg(\"mean\")\n",
    "print(mean_data)\n",
    "mean_data.plot(kind=\"bar\",figsize=(16,4))\n",
    "plt.show()"
   ]
  },
  {
   "cell_type": "code",
   "execution_count": 39,
   "metadata": {},
   "outputs": [
    {
     "name": "stdout",
     "output_type": "stream",
     "text": [
      "gender\n",
      "Female                              6999\n",
      "Male                               35702\n",
      "Other                                400\n",
      "Title: Senior Software Engineer        1\n",
      "Name: totalyearlycompensation, dtype: int64\n"
     ]
    },
    {
     "data": {
      "image/png": "[encoded data removed]",
      "text/plain": [
       "<Figure size 1152x288 with 1 Axes>"
      ]
     },
     "metadata": {
      "needs_background": "light"
     },
     "output_type": "display_data"
    }
   ],
   "source": [
    "mean_data = df[\"totalyearlycompensation\"].groupby(df[\"gender\"]).agg(\"count\")\n",
    "print(mean_data)\n",
    "mean_data.plot(kind=\"bar\",figsize=(16,4))\n",
    "plt.show()"
   ]
  },
  {
   "cell_type": "markdown",
   "metadata": {},
   "source": [
    "--> Here we can see that there are more men in the STEM workforce.\n",
    "\n",
    "--> We can also see a slight difference in the total yearly compensation between people of different genders."
   ]
  },
  {
   "cell_type": "markdown",
   "metadata": {},
   "source": [
    "### Data Visualization"
   ]
  },
  {
   "cell_type": "markdown",
   "metadata": {},
   "source": [
    "--> A visual representation would provide far more detail of how all the factors relate\n",
    "\n",
    "--> This helps us get a sense of direction on how to proceed with the analysis"
   ]
  },
  {
   "cell_type": "code",
   "execution_count": 40,
   "metadata": {},
   "outputs": [
    {
     "data": {
      "text/plain": [
       "<AxesSubplot:>"
      ]
     },
     "execution_count": 40,
     "metadata": {},
     "output_type": "execute_result"
    },
    {
     "data": {
      "image/png": "[encoded data removed]",
      "text/plain": [
       "<Figure size 432x288 with 2 Axes>"
      ]
     },
     "metadata": {
      "needs_background": "light"
     },
     "output_type": "display_data"
    }
   ],
   "source": [
    "sns.heatmap(df.corr(), linewidths=0.5)"
   ]
  },
  {
   "cell_type": "markdown",
   "metadata": {},
   "source": [
    "Based on these heatmaps we can draw a few conclusion: \n",
    "\n",
    "--> There are certain aspects that have a strong correlation with the 'totalyearlycompensation' like - basesalary and stockgrantvalue. (r ~ 0.7)\n",
    "\n",
    "--> Something important to note is that the total yearly compensation is also a direct part of the revenue per year, and hence it is important to use that, but also find a model where we don't have to rely on the 'stockgrantvalue'. This is because when someone wants to make a prediction about yearly compensation, they may not know the stock grant value that the employee may receive.\n",
    "\n",
    "--> A few more columns, with a lower correlation that related with the data were: 'yearsofexperience' and 'bonus'\n",
    "\n",
    "--> It was surprising to note that 'yearsatcompany' did not play such a big role in the total yearly compensation.\n",
    "\n",
    "--> The above columns can be used regressively and we can find an accurate model.\n",
    "\n",
    "--> Something else that also needs to be taken care of is Categorical Data which I will handle later while implementing ML Models.\n",
    "\n",
    "--> As far as Regression models are concerned, we need to see if we should use single linear with one string correlation or multiple linear with lesser correlation but more 'X' values\n",
    "\n",
    "--> Lets see a few more visualization on how columns correlate"
   ]
  },
  {
   "cell_type": "code",
   "execution_count": 41,
   "metadata": {},
   "outputs": [
    {
     "data": {
      "text/plain": [
       "<AxesSubplot:xlabel='stockgrantvalue', ylabel='totalyearlycompensation'>"
      ]
     },
     "execution_count": 41,
     "metadata": {},
     "output_type": "execute_result"
    },
    {
     "data": {
      "image/png": "[encoded data removed]",
      "text/plain": [
       "<Figure size 432x288 with 1 Axes>"
      ]
     },
     "metadata": {
      "needs_background": "light"
     },
     "output_type": "display_data"
    }
   ],
   "source": [
    "sns.scatterplot(y = df['totalyearlycompensation'], x = df['stockgrantvalue'])"
   ]
  },
  {
   "cell_type": "markdown",
   "metadata": {},
   "source": [
    "Thus in the above case we can see that after 1 (as on the graph) the data is out of bonds and this would be extrapolation."
   ]
  },
  {
   "cell_type": "code",
   "execution_count": 42,
   "metadata": {},
   "outputs": [
    {
     "data": {
      "text/plain": [
       "<AxesSubplot:xlabel='yearsofexperience', ylabel='totalyearlycompensation'>"
      ]
     },
     "execution_count": 42,
     "metadata": {},
     "output_type": "execute_result"
    },
    {
     "data": {
      "image/png": "[encoded data removed]",
      "text/plain": [
       "<Figure size 432x288 with 1 Axes>"
      ]
     },
     "metadata": {
      "needs_background": "light"
     },
     "output_type": "display_data"
    }
   ],
   "source": [
    "sns.scatterplot(y = df['totalyearlycompensation'], x = df['yearsofexperience'])"
   ]
  },
  {
   "cell_type": "markdown",
   "metadata": {},
   "source": [
    "This clearly has a weeker correlation, but we can be also note that the range is similar after which any prediction would be extrapolation"
   ]
  },
  {
   "cell_type": "markdown",
   "metadata": {},
   "source": [
    "## Cleaning the Data and Data PreProcessing"
   ]
  },
  {
   "cell_type": "markdown",
   "metadata": {},
   "source": [
    "### Removing Unecessary Columns\n",
    "\n",
    "\n",
    "--> Some of the Categorical Columns, do not appear to have any realtion with the data set, and due to label encoding, the size of the dataset becomes very big – this it becomes very hard to run a model.\n",
    "\n",
    "--> Will be removing the column along with the NA values"
   ]
  },
  {
   "cell_type": "markdown",
   "metadata": {},
   "source": [
    "### Removing NA Values"
   ]
  },
  {
   "cell_type": "code",
   "execution_count": 43,
   "metadata": {},
   "outputs": [
    {
     "data": {
      "text/plain": [
       "timestamp                      0\n",
       "company                        5\n",
       "level                        119\n",
       "title                          0\n",
       "totalyearlycompensation        0\n",
       "location                       0\n",
       "yearsofexperience              0\n",
       "yearsatcompany                 0\n",
       "tag                          854\n",
       "basesalary                     0\n",
       "stockgrantvalue                0\n",
       "bonus                          0\n",
       "gender                     19540\n",
       "otherdetails               22505\n",
       "cityid                         0\n",
       "dmaid                          2\n",
       "rowNumber                      0\n",
       "Masters_Degree                 0\n",
       "Bachelors_Degree               0\n",
       "Doctorate_Degree               0\n",
       "Highschool                     0\n",
       "Some_College                   0\n",
       "Race_Asian                     0\n",
       "Race_White                     0\n",
       "Race_Two_Or_More               0\n",
       "Race_Black                     0\n",
       "Race_Hispanic                  0\n",
       "Race                       40215\n",
       "Education                  32272\n",
       "dtype: int64"
      ]
     },
     "execution_count": 43,
     "metadata": {},
     "output_type": "execute_result"
    }
   ],
   "source": [
    "df.isna().sum()"
   ]
  },
  {
   "cell_type": "markdown",
   "metadata": {},
   "source": [
    "--> For the first Column of Company, we can simply remove those rows. This prevents in errors while running training algorithms. Morover, we have huge dataset and dropping a small percentage of that would not affect the Prediction.\n",
    "\n",
    "--> While it is not ideal to drop certain columns, we can do so when we don't have enough information about them, and also in these cases where there are too many NA values.\n",
    "\n",
    "--> Columns that I will be dropping are : Gender, OtherDetails, Race, Education\n",
    "\n",
    "--> While some categories seem very usefull like Education, it is unfortunate that in this case due to less data I have to drop those columns.\n",
    "\n",
    "--> However, it is important to note that while we are not losing any data we are still able to see its applications in the salary with its categorical representation in the DataSet using label encoding."
   ]
  },
  {
   "cell_type": "code",
   "execution_count": 44,
   "metadata": {},
   "outputs": [
    {
     "data": {
      "text/plain": [
       "company                    5\n",
       "title                      0\n",
       "totalyearlycompensation    0\n",
       "location                   0\n",
       "yearsofexperience          0\n",
       "yearsatcompany             0\n",
       "basesalary                 0\n",
       "stockgrantvalue            0\n",
       "bonus                      0\n",
       "cityid                     0\n",
       "Masters_Degree             0\n",
       "Bachelors_Degree           0\n",
       "Doctorate_Degree           0\n",
       "Highschool                 0\n",
       "Some_College               0\n",
       "Race_Asian                 0\n",
       "Race_White                 0\n",
       "Race_Two_Or_More           0\n",
       "Race_Black                 0\n",
       "Race_Hispanic              0\n",
       "dtype: int64"
      ]
     },
     "execution_count": 44,
     "metadata": {},
     "output_type": "execute_result"
    }
   ],
   "source": [
    "df = df.drop(columns = ['gender', 'otherdetails', 'Race', 'Education', 'timestamp', 'level', 'tag', 'rowNumber', 'dmaid'])\n",
    "df.isna().sum()"
   ]
  },
  {
   "cell_type": "code",
   "execution_count": 45,
   "metadata": {},
   "outputs": [
    {
     "data": {
      "text/plain": [
       "company                    0\n",
       "title                      0\n",
       "totalyearlycompensation    0\n",
       "location                   0\n",
       "yearsofexperience          0\n",
       "yearsatcompany             0\n",
       "basesalary                 0\n",
       "stockgrantvalue            0\n",
       "bonus                      0\n",
       "cityid                     0\n",
       "Masters_Degree             0\n",
       "Bachelors_Degree           0\n",
       "Doctorate_Degree           0\n",
       "Highschool                 0\n",
       "Some_College               0\n",
       "Race_Asian                 0\n",
       "Race_White                 0\n",
       "Race_Two_Or_More           0\n",
       "Race_Black                 0\n",
       "Race_Hispanic              0\n",
       "dtype: int64"
      ]
     },
     "execution_count": 45,
     "metadata": {},
     "output_type": "execute_result"
    }
   ],
   "source": [
    "df = df.dropna()\n",
    "df.isna().sum()"
   ]
  },
  {
   "cell_type": "markdown",
   "metadata": {},
   "source": [
    "### Converting the Data into a Desirable form"
   ]
  },
  {
   "cell_type": "code",
   "execution_count": 46,
   "metadata": {},
   "outputs": [
    {
     "name": "stdout",
     "output_type": "stream",
     "text": [
      "<class 'pandas.core.frame.DataFrame'>\n",
      "Int64Index: 62637 entries, 0 to 62641\n",
      "Data columns (total 20 columns):\n",
      " #   Column                   Non-Null Count  Dtype  \n",
      "---  ------                   --------------  -----  \n",
      " 0   company                  62637 non-null  object \n",
      " 1   title                    62637 non-null  object \n",
      " 2   totalyearlycompensation  62637 non-null  int64  \n",
      " 3   location                 62637 non-null  object \n",
      " 4   yearsofexperience        62637 non-null  float64\n",
      " 5   yearsatcompany           62637 non-null  float64\n",
      " 6   basesalary               62637 non-null  float64\n",
      " 7   stockgrantvalue          62637 non-null  float64\n",
      " 8   bonus                    62637 non-null  float64\n",
      " 9   cityid                   62637 non-null  int64  \n",
      " 10  Masters_Degree           62637 non-null  int64  \n",
      " 11  Bachelors_Degree         62637 non-null  int64  \n",
      " 12  Doctorate_Degree         62637 non-null  int64  \n",
      " 13  Highschool               62637 non-null  int64  \n",
      " 14  Some_College             62637 non-null  int64  \n",
      " 15  Race_Asian               62637 non-null  int64  \n",
      " 16  Race_White               62637 non-null  int64  \n",
      " 17  Race_Two_Or_More         62637 non-null  int64  \n",
      " 18  Race_Black               62637 non-null  int64  \n",
      " 19  Race_Hispanic            62637 non-null  int64  \n",
      "dtypes: float64(5), int64(12), object(3)\n",
      "memory usage: 10.0+ MB\n"
     ]
    }
   ],
   "source": [
    "df.info()"
   ]
  },
  {
   "cell_type": "markdown",
   "metadata": {},
   "source": [
    "--> Categorical Data needs to be converted into a numeric form for us to do any analysis.\n",
    "\n",
    "--> As we can see some of the categorical data like race..etc is already numeric, hence only that which is of Object type needs to be convered.\n",
    "\n",
    "--> Thus we need to convert: 'company', 'level', 'title', 'location', 'tag'"
   ]
  },
  {
   "cell_type": "code",
   "execution_count": 47,
   "metadata": {},
   "outputs": [
    {
     "data": {
      "text/plain": [
       "Index(['totalyearlycompensation', 'yearsofexperience', 'yearsatcompany',\n",
       "       'basesalary', 'stockgrantvalue', 'bonus', 'cityid', 'Masters_Degree',\n",
       "       'Bachelors_Degree', 'Doctorate_Degree',\n",
       "       ...\n",
       "       'location_Yeovil, EN, United Kingdom', 'location_Yerevan, ER, Armenia',\n",
       "       'location_York, PA', 'location_Yorktown Heights, NY',\n",
       "       'location_Yulee, FL', 'location_Zapopan, JA, Mexico',\n",
       "       'location_Zaragoza, AR, Spain', 'location_Zug, ZG, Switzerland',\n",
       "       'location_Zurich, ZH, Switzerland',\n",
       "       'location_hod hasharon, HM, Israel'],\n",
       "      dtype='object', length=2713)"
      ]
     },
     "execution_count": 47,
     "metadata": {},
     "output_type": "execute_result"
    }
   ],
   "source": [
    "categorical_list = ['company', 'title', 'location']\n",
    "encoder = pd.get_dummies(df, columns = categorical_list)\n",
    "df = encoder\n",
    "df.columns"
   ]
  },
  {
   "cell_type": "code",
   "execution_count": 48,
   "metadata": {},
   "outputs": [
    {
     "data": {
      "text/html": [
       "<div>\n",
       "<style scoped>\n",
       "    .dataframe tbody tr th:only-of-type {\n",
       "        vertical-align: middle;\n",
       "    }\n",
       "\n",
       "    .dataframe tbody tr th {\n",
       "        vertical-align: top;\n",
       "    }\n",
       "\n",
       "    .dataframe thead th {\n",
       "        text-align: right;\n",
       "    }\n",
       "</style>\n",
       "<table border=\"1\" class=\"dataframe\">\n",
       "  <thead>\n",
       "    <tr style=\"text-align: right;\">\n",
       "      <th></th>\n",
       "      <th>totalyearlycompensation</th>\n",
       "      <th>yearsofexperience</th>\n",
       "      <th>yearsatcompany</th>\n",
       "      <th>basesalary</th>\n",
       "      <th>stockgrantvalue</th>\n",
       "      <th>bonus</th>\n",
       "      <th>cityid</th>\n",
       "      <th>Masters_Degree</th>\n",
       "      <th>Bachelors_Degree</th>\n",
       "      <th>Doctorate_Degree</th>\n",
       "      <th>...</th>\n",
       "      <th>location_Yeovil, EN, United Kingdom</th>\n",
       "      <th>location_Yerevan, ER, Armenia</th>\n",
       "      <th>location_York, PA</th>\n",
       "      <th>location_Yorktown Heights, NY</th>\n",
       "      <th>location_Yulee, FL</th>\n",
       "      <th>location_Zapopan, JA, Mexico</th>\n",
       "      <th>location_Zaragoza, AR, Spain</th>\n",
       "      <th>location_Zug, ZG, Switzerland</th>\n",
       "      <th>location_Zurich, ZH, Switzerland</th>\n",
       "      <th>location_hod hasharon, HM, Israel</th>\n",
       "    </tr>\n",
       "  </thead>\n",
       "  <tbody>\n",
       "    <tr>\n",
       "      <th>0</th>\n",
       "      <td>127000</td>\n",
       "      <td>1.5</td>\n",
       "      <td>1.5</td>\n",
       "      <td>107000.0</td>\n",
       "      <td>20000.0</td>\n",
       "      <td>10000.0</td>\n",
       "      <td>7392</td>\n",
       "      <td>0</td>\n",
       "      <td>0</td>\n",
       "      <td>0</td>\n",
       "      <td>...</td>\n",
       "      <td>0</td>\n",
       "      <td>0</td>\n",
       "      <td>0</td>\n",
       "      <td>0</td>\n",
       "      <td>0</td>\n",
       "      <td>0</td>\n",
       "      <td>0</td>\n",
       "      <td>0</td>\n",
       "      <td>0</td>\n",
       "      <td>0</td>\n",
       "    </tr>\n",
       "    <tr>\n",
       "      <th>1</th>\n",
       "      <td>100000</td>\n",
       "      <td>5.0</td>\n",
       "      <td>3.0</td>\n",
       "      <td>0.0</td>\n",
       "      <td>0.0</td>\n",
       "      <td>0.0</td>\n",
       "      <td>7419</td>\n",
       "      <td>0</td>\n",
       "      <td>0</td>\n",
       "      <td>0</td>\n",
       "      <td>...</td>\n",
       "      <td>0</td>\n",
       "      <td>0</td>\n",
       "      <td>0</td>\n",
       "      <td>0</td>\n",
       "      <td>0</td>\n",
       "      <td>0</td>\n",
       "      <td>0</td>\n",
       "      <td>0</td>\n",
       "      <td>0</td>\n",
       "      <td>0</td>\n",
       "    </tr>\n",
       "    <tr>\n",
       "      <th>2</th>\n",
       "      <td>310000</td>\n",
       "      <td>8.0</td>\n",
       "      <td>0.0</td>\n",
       "      <td>155000.0</td>\n",
       "      <td>0.0</td>\n",
       "      <td>0.0</td>\n",
       "      <td>11527</td>\n",
       "      <td>0</td>\n",
       "      <td>0</td>\n",
       "      <td>0</td>\n",
       "      <td>...</td>\n",
       "      <td>0</td>\n",
       "      <td>0</td>\n",
       "      <td>0</td>\n",
       "      <td>0</td>\n",
       "      <td>0</td>\n",
       "      <td>0</td>\n",
       "      <td>0</td>\n",
       "      <td>0</td>\n",
       "      <td>0</td>\n",
       "      <td>0</td>\n",
       "    </tr>\n",
       "    <tr>\n",
       "      <th>3</th>\n",
       "      <td>372000</td>\n",
       "      <td>7.0</td>\n",
       "      <td>5.0</td>\n",
       "      <td>157000.0</td>\n",
       "      <td>180000.0</td>\n",
       "      <td>35000.0</td>\n",
       "      <td>7472</td>\n",
       "      <td>0</td>\n",
       "      <td>0</td>\n",
       "      <td>0</td>\n",
       "      <td>...</td>\n",
       "      <td>0</td>\n",
       "      <td>0</td>\n",
       "      <td>0</td>\n",
       "      <td>0</td>\n",
       "      <td>0</td>\n",
       "      <td>0</td>\n",
       "      <td>0</td>\n",
       "      <td>0</td>\n",
       "      <td>0</td>\n",
       "      <td>0</td>\n",
       "    </tr>\n",
       "    <tr>\n",
       "      <th>4</th>\n",
       "      <td>157000</td>\n",
       "      <td>5.0</td>\n",
       "      <td>3.0</td>\n",
       "      <td>0.0</td>\n",
       "      <td>0.0</td>\n",
       "      <td>0.0</td>\n",
       "      <td>7322</td>\n",
       "      <td>0</td>\n",
       "      <td>0</td>\n",
       "      <td>0</td>\n",
       "      <td>...</td>\n",
       "      <td>0</td>\n",
       "      <td>0</td>\n",
       "      <td>0</td>\n",
       "      <td>0</td>\n",
       "      <td>0</td>\n",
       "      <td>0</td>\n",
       "      <td>0</td>\n",
       "      <td>0</td>\n",
       "      <td>0</td>\n",
       "      <td>0</td>\n",
       "    </tr>\n",
       "  </tbody>\n",
       "</table>\n",
       "<p>5 rows × 2713 columns</p>\n",
       "</div>"
      ],
      "text/plain": [
       "   totalyearlycompensation  yearsofexperience  yearsatcompany  basesalary  \\\n",
       "0                   127000                1.5             1.5    107000.0   \n",
       "1                   100000                5.0             3.0         0.0   \n",
       "2                   310000                8.0             0.0    155000.0   \n",
       "3                   372000                7.0             5.0    157000.0   \n",
       "4                   157000                5.0             3.0         0.0   \n",
       "\n",
       "   stockgrantvalue    bonus  cityid  Masters_Degree  Bachelors_Degree  \\\n",
       "0          20000.0  10000.0    7392               0                 0   \n",
       "1              0.0      0.0    7419               0                 0   \n",
       "2              0.0      0.0   11527               0                 0   \n",
       "3         180000.0  35000.0    7472               0                 0   \n",
       "4              0.0      0.0    7322               0                 0   \n",
       "\n",
       "   Doctorate_Degree  ...  location_Yeovil, EN, United Kingdom  \\\n",
       "0                 0  ...                                    0   \n",
       "1                 0  ...                                    0   \n",
       "2                 0  ...                                    0   \n",
       "3                 0  ...                                    0   \n",
       "4                 0  ...                                    0   \n",
       "\n",
       "   location_Yerevan, ER, Armenia  location_York, PA  \\\n",
       "0                              0                  0   \n",
       "1                              0                  0   \n",
       "2                              0                  0   \n",
       "3                              0                  0   \n",
       "4                              0                  0   \n",
       "\n",
       "   location_Yorktown Heights, NY  location_Yulee, FL  \\\n",
       "0                              0                   0   \n",
       "1                              0                   0   \n",
       "2                              0                   0   \n",
       "3                              0                   0   \n",
       "4                              0                   0   \n",
       "\n",
       "   location_Zapopan, JA, Mexico  location_Zaragoza, AR, Spain  \\\n",
       "0                             0                             0   \n",
       "1                             0                             0   \n",
       "2                             0                             0   \n",
       "3                             0                             0   \n",
       "4                             0                             0   \n",
       "\n",
       "   location_Zug, ZG, Switzerland  location_Zurich, ZH, Switzerland  \\\n",
       "0                              0                                 0   \n",
       "1                              0                                 0   \n",
       "2                              0                                 0   \n",
       "3                              0                                 0   \n",
       "4                              0                                 0   \n",
       "\n",
       "   location_hod hasharon, HM, Israel  \n",
       "0                                  0  \n",
       "1                                  0  \n",
       "2                                  0  \n",
       "3                                  0  \n",
       "4                                  0  \n",
       "\n",
       "[5 rows x 2713 columns]"
      ]
     },
     "execution_count": 48,
     "metadata": {},
     "output_type": "execute_result"
    }
   ],
   "source": [
    "df.head() # Just to view"
   ]
  },
  {
   "cell_type": "markdown",
   "metadata": {},
   "source": [
    "## Making Predictions and a MACHINE LEARNING MODEL"
   ]
  },
  {
   "cell_type": "markdown",
   "metadata": {},
   "source": [
    "--> I hope to create a model such that one can predict the 'totalyearlycompensation'\n",
    "\n",
    "--> At the same time by finding predictive models and checking its accuracy we can also find out which factors contribute to the data."
   ]
  },
  {
   "cell_type": "markdown",
   "metadata": {},
   "source": [
    "### Creating a Function for Accuracy Prediction"
   ]
  },
  {
   "cell_type": "markdown",
   "metadata": {},
   "source": [
    "--> We learnt RMSE to find the error in a machine learning model.\n",
    "\n",
    "--> With the same funtion I am using another model that will tell us the accuracy of the prediction.\n",
    "\n",
    "--> The lower the error, the better the model fits, thus creating a function for the same."
   ]
  },
  {
   "cell_type": "code",
   "execution_count": 49,
   "metadata": {},
   "outputs": [],
   "source": [
    "def accuracy(y = []):\n",
    "    score = explained_variance_score(df['totalyearlycompensation'], y)\n",
    "    return score * 100"
   ]
  },
  {
   "cell_type": "markdown",
   "metadata": {},
   "source": [
    "### Linear Regression"
   ]
  },
  {
   "cell_type": "markdown",
   "metadata": {},
   "source": [
    "#### Simple Linear Regression using StockGrantValue"
   ]
  },
  {
   "cell_type": "code",
   "execution_count": 50,
   "metadata": {},
   "outputs": [
    {
     "name": "stdout",
     "output_type": "stream",
     "text": [
      "59.407239001517034\n"
     ]
    },
    {
     "data": {
      "image/png": "[encoded data removed]",
      "text/plain": [
       "<Figure size 432x288 with 1 Axes>"
      ]
     },
     "metadata": {
      "needs_background": "light"
     },
     "output_type": "display_data"
    }
   ],
   "source": [
    "model = LinearRegression()\n",
    "model.fit(df[['stockgrantvalue']], df['totalyearlycompensation'])\n",
    "prediction = model.predict(df[['stockgrantvalue']])\n",
    "sns.regplot(x = df[['stockgrantvalue']], y = df['totalyearlycompensation'])\n",
    "print(accuracy(prediction))"
   ]
  },
  {
   "cell_type": "markdown",
   "metadata": {},
   "source": [
    "--> What we can see based on this is that there is a strong correlation, but the accuracy score is low and can be better hence it its not the ideal model.\n",
    "\n",
    "--> Another important correlation that we can derive, though obvious is that the stock grant has a strong correlation with the total yearly compensation.\n",
    "\n",
    "--> But as stated before as well, it is important that we also find a model that can make such a conclusion without using the stockgrantvalue. This is because it is very possible that if someone wants to find out the predicted yearly compensation, they may not have data for the stockgrantvalue that the employee is going to recieve."
   ]
  },
  {
   "cell_type": "markdown",
   "metadata": {},
   "source": [
    "#### Simple Linear Regression Using basesalary"
   ]
  },
  {
   "cell_type": "code",
   "execution_count": 51,
   "metadata": {},
   "outputs": [
    {
     "name": "stdout",
     "output_type": "stream",
     "text": [
      "45.272221863757714\n"
     ]
    },
    {
     "data": {
      "image/png": "[encoded data removed]",
      "text/plain": [
       "<Figure size 432x288 with 1 Axes>"
      ]
     },
     "metadata": {
      "needs_background": "light"
     },
     "output_type": "display_data"
    }
   ],
   "source": [
    "model = LinearRegression()\n",
    "model.fit(df[['basesalary']], df['totalyearlycompensation'])\n",
    "prediction = model.predict(df[['basesalary']])\n",
    "sns.regplot(x = df[['basesalary']], y = df['totalyearlycompensation'])\n",
    "print(accuracy(prediction))"
   ]
  },
  {
   "cell_type": "markdown",
   "metadata": {},
   "source": [
    "--> As expected and shown by the correlation heatmap, we have some prediction, but it is not as accurate as we would like it to be.\n",
    "\n",
    "--> But as far as a Simple Linear Regression, goes this is the only other accuarate solution that we can use without using stock grant value\n",
    "\n",
    "--> We also need to see the accuracy of multiple linear regression"
   ]
  },
  {
   "cell_type": "markdown",
   "metadata": {},
   "source": [
    "#### Multiple Linear Regression Using All Values that can be Used Regressively"
   ]
  },
  {
   "cell_type": "code",
   "execution_count": 52,
   "metadata": {},
   "outputs": [
    {
     "name": "stdout",
     "output_type": "stream",
     "text": [
      "76.82849294669512\n"
     ]
    }
   ],
   "source": [
    "regression_list = ['yearsofexperience',\t'yearsatcompany', 'basesalary',\t'stockgrantvalue', 'bonus']\n",
    "model = LinearRegression()\n",
    "model.fit(df[regression_list], df['totalyearlycompensation'])\n",
    "prediction = model.predict(df[regression_list])\n",
    "print(accuracy(prediction))"
   ]
  },
  {
   "cell_type": "markdown",
   "metadata": {},
   "source": [
    "--> This model has a higher accuracy score and hence for sure we can use it to make predictions.\n",
    "\n",
    "--> We also need to see how this would perform without stock grant value information."
   ]
  },
  {
   "cell_type": "code",
   "execution_count": 53,
   "metadata": {},
   "outputs": [
    {
     "name": "stdout",
     "output_type": "stream",
     "text": [
      "53.63901082307745\n"
     ]
    }
   ],
   "source": [
    "regression_list = ['yearsofexperience',\t'yearsatcompany', 'basesalary',\t'bonus']\n",
    "model = LinearRegression()\n",
    "model.fit(df[regression_list], df['totalyearlycompensation'])\n",
    "prediction = model.predict(df[regression_list])\n",
    "print(accuracy(prediction))"
   ]
  },
  {
   "cell_type": "markdown",
   "metadata": {},
   "source": [
    "--> As expected the accuracy of the model reduced, but with regression this is still a better bet.\n",
    "\n",
    "--> One approach that we need to take while predicting is to use categorical data for our predictions...this may improve our accuracy and at the same time we do not need to worry about possible unknown data."
   ]
  },
  {
   "cell_type": "markdown",
   "metadata": {},
   "source": [
    "### Categorical Data"
   ]
  },
  {
   "cell_type": "markdown",
   "metadata": {},
   "source": [
    "#### Prediction using all the Categorical Columns"
   ]
  },
  {
   "cell_type": "markdown",
   "metadata": {},
   "source": [
    "--> We can either do clustering or Classification as they have several similarities and work on Categorical data\n",
    "\n",
    "--> Based on some research I have decided to Use a Decision Tree Model.\n",
    "\n",
    "--> One more issue with Classification is its runtime, Decision Tree would work well on our data and hence I selected that."
   ]
  },
  {
   "cell_type": "code",
   "execution_count": 54,
   "metadata": {},
   "outputs": [],
   "source": [
    "regression_list = ['yearsofexperience',\t'yearsatcompany', 'basesalary',\t'stockgrantvalue', 'bonus']\n",
    "data = df.drop(columns = regression_list)"
   ]
  },
  {
   "cell_type": "code",
   "execution_count": 55,
   "metadata": {},
   "outputs": [
    {
     "data": {
      "text/plain": [
       "46.982709795354815"
      ]
     },
     "execution_count": 55,
     "metadata": {},
     "output_type": "execute_result"
    }
   ],
   "source": [
    "from sklearn.tree import DecisionTreeClassifier\n",
    "model = DecisionTreeClassifier()\n",
    "X = data.drop(columns=['totalyearlycompensation'])\n",
    "Y = df['totalyearlycompensation']\n",
    "model.fit(X, Y)\n",
    "prediction = model.predict(X)\n",
    "accuracy(prediction)"
   ]
  },
  {
   "cell_type": "markdown",
   "metadata": {},
   "source": [
    "--> This model did have an OK accuracy, but not nearly as much as needed to make accurate predictions.\n",
    "\n",
    "--> Thus we need to use regressive models to predict the data.\n",
    "\n",
    "--> This also indicates that while such factors like gender, education etc influence the data to make accurate predictions based on that."
   ]
  },
  {
   "cell_type": "markdown",
   "metadata": {},
   "source": [
    "### Selecting the Correct Model and Showing Residuals"
   ]
  },
  {
   "cell_type": "markdown",
   "metadata": {},
   "source": [
    "--> Since the best Model is the one with 76.82 % Accuracy, we need to search for a model that has a higher accuracy and works with regression.\n",
    "\n",
    "--> Below, the code implements the model as a function, that prints the accuracy and the residuals.\n",
    "\n",
    "--> Thus the function implemented (after trying a few more regressive models), will be able to take in a dataset with certain columns and give out the predicted amount of yearlyrevenue with its accuracy score as well. This allows for a case where we may not know the stock grant value as well."
   ]
  },
  {
   "cell_type": "markdown",
   "metadata": {},
   "source": [
    "#### Some common code before we can try out models...\n",
    "\n",
    "--> Based on some more research and reading, I decided to try out 3 regressive models."
   ]
  },
  {
   "cell_type": "code",
   "execution_count": 56,
   "metadata": {},
   "outputs": [],
   "source": [
    "regression_list = ['yearsofexperience',\t'yearsatcompany', 'basesalary',\t'stockgrantvalue', 'bonus']\n",
    "from xgboost import XGBRegressor\n",
    "from sklearn.tree import DecisionTreeRegressor\n",
    "from sklearn.ensemble import RandomForestRegressor"
   ]
  },
  {
   "cell_type": "code",
   "execution_count": 57,
   "metadata": {},
   "outputs": [
    {
     "name": "stdout",
     "output_type": "stream",
     "text": [
      "96.8197062123413\n"
     ]
    }
   ],
   "source": [
    "model = XGBRegressor()\n",
    "model.fit(df[regression_list], df['totalyearlycompensation'])\n",
    "prediction = model.predict(df[regression_list])\n",
    "print(accuracy(prediction))"
   ]
  },
  {
   "cell_type": "code",
   "execution_count": 58,
   "metadata": {},
   "outputs": [
    {
     "name": "stdout",
     "output_type": "stream",
     "text": [
      "97.56629712829822\n"
     ]
    }
   ],
   "source": [
    "model = DecisionTreeRegressor()\n",
    "model.fit(df[regression_list], df['totalyearlycompensation'])\n",
    "prediction = model.predict(df[regression_list])\n",
    "print(accuracy(prediction))"
   ]
  },
  {
   "cell_type": "code",
   "execution_count": 59,
   "metadata": {},
   "outputs": [
    {
     "name": "stdout",
     "output_type": "stream",
     "text": [
      "96.5013329126751\n"
     ]
    }
   ],
   "source": [
    "model = RandomForestRegressor()\n",
    "model.fit(df[regression_list], df['totalyearlycompensation'])\n",
    "prediction = model.predict(df[regression_list])\n",
    "print(accuracy(prediction))"
   ]
  },
  {
   "cell_type": "markdown",
   "metadata": {},
   "source": [
    "--> As we wanted the accuracy did improve, and hence the function should be implemented using Decision Tree Regressor"
   ]
  },
  {
   "cell_type": "markdown",
   "metadata": {},
   "source": [
    "#### Implementing the Predictive Function"
   ]
  },
  {
   "cell_type": "markdown",
   "metadata": {},
   "source": [
    "DETAILS: \n",
    "\n",
    "--> We have an option to calculate without knowing if the stockKnown exists or not\n",
    "\n",
    "--> Need to ensure that the dataset passed has all the necessary columns\n",
    "\n",
    "--> Print out the Prediction, Accuracy and the Residuals"
   ]
  },
  {
   "cell_type": "code",
   "execution_count": 60,
   "metadata": {},
   "outputs": [],
   "source": [
    "def predict(df, stockKown = True): \n",
    "    if stockKown:\n",
    "        regression_list = ['yearsofexperience',\t'yearsatcompany', 'basesalary',\t'stockgrantvalue', 'bonus']\n",
    "    else :\n",
    "        regression_list = ['yearsofexperience',\t'yearsatcompany', 'basesalary', 'bonus']\n",
    "    model = DecisionTreeRegressor()\n",
    "    model.fit(df[regression_list], df['totalyearlycompensation'])\n",
    "    prediction = model.predict(df[regression_list])\n",
    "    print(\"The Predcition is: \")\n",
    "    print(prediction)\n",
    "    print(\"***\")\n",
    "    print(\"The Accuracy is: \")\n",
    "    print(accuracy(prediction))\n",
    "    print(\"***\")\n",
    "    print(\"The Residuals are: \")\n",
    "    residuals = prediction - df['totalyearlycompensation']\n",
    "    print(residuals)\n",
    "    print(\"******\")\n"
   ]
  },
  {
   "cell_type": "code",
   "execution_count": 61,
   "metadata": {},
   "outputs": [
    {
     "name": "stdout",
     "output_type": "stream",
     "text": [
      "The Predcition is: \n",
      "[127000.        199030.3030303 310000.        ... 220000.\n",
      " 280000.        200000.       ]\n",
      "***\n",
      "The Accuracy is: \n",
      "97.56629712829822\n",
      "***\n",
      "The Residuals are: \n",
      "0            0.00000\n",
      "1        99030.30303\n",
      "2            0.00000\n",
      "3            0.00000\n",
      "4        42030.30303\n",
      "            ...     \n",
      "62637        0.00000\n",
      "62638        0.00000\n",
      "62639        0.00000\n",
      "62640        0.00000\n",
      "62641        0.00000\n",
      "Name: totalyearlycompensation, Length: 62637, dtype: float64\n",
      "******\n"
     ]
    }
   ],
   "source": [
    "predict(df, True)"
   ]
  },
  {
   "cell_type": "code",
   "execution_count": 62,
   "metadata": {},
   "outputs": [
    {
     "name": "stdout",
     "output_type": "stream",
     "text": [
      "The Predcition is: \n",
      "[127000.        199030.3030303 210000.        ... 220000.\n",
      " 280000.        209000.       ]\n",
      "***\n",
      "The Accuracy is: \n",
      "94.14623909688125\n",
      "***\n",
      "The Residuals are: \n",
      "0             0.00000\n",
      "1         99030.30303\n",
      "2       -100000.00000\n",
      "3             0.00000\n",
      "4         42030.30303\n",
      "             ...     \n",
      "62637         0.00000\n",
      "62638         0.00000\n",
      "62639         0.00000\n",
      "62640         0.00000\n",
      "62641      9000.00000\n",
      "Name: totalyearlycompensation, Length: 62637, dtype: float64\n",
      "******\n"
     ]
    }
   ],
   "source": [
    "predict(df, False)"
   ]
  },
  {
   "cell_type": "markdown",
   "metadata": {},
   "source": [
    "--> Thus when the stock grant is known we get a good accuracy as expected of around 97.56%\n",
    "\n",
    "--> Without the stock grant value we still get a good accuracy of around 94%\n",
    "\n",
    "--> Thus with this function, accurate  and close to accurate predictions can be made about the employee's salary (yearly compensation)"
   ]
  },
  {
   "cell_type": "markdown",
   "metadata": {},
   "source": [
    "## Drawing Conclusions and Observations"
   ]
  },
  {
   "cell_type": "markdown",
   "metadata": {},
   "source": [
    "### Overwiew of Project:  \n"
   ]
  },
  {
   "cell_type": "markdown",
   "metadata": {},
   "source": [
    "--> I have analyzed some data about STEM Based salaries and have implemented a ML model (Markdown text along the way to provide information on what is being done).\n",
    "\n",
    "--> I have done some analyses that tells about some of the important factors that affect the total revenue and have added some visualization here and there to help us further understand the data.\n",
    "\n",
    "--> Lastly, I have created a function that can predict total yearly revenue an emplyee can earn based on some of the data provided, with upto 97.56% accuracy."
   ]
  },
  {
   "cell_type": "markdown",
   "metadata": {},
   "source": [
    "### Improvements and Next Steps: "
   ]
  },
  {
   "cell_type": "markdown",
   "metadata": {},
   "source": [
    "--> As in my current project I have accounted for the fact that stock grant may not be known, similarly in some cases we may not know other details like bonuses etc...hence can modify the function to take into account all of that.\n",
    "\n",
    "--> In addition to that it would be helpful to create a more accurate clustering algorithm, that can predict the total yearly revenue, taking into account factors like education, race and gender... this will also help us analyze situations where there may be cases of inequality in society.\n",
    "\n",
    "--> Furthermore, we should be able to integrate the both the classification and regression algorithms for optimization."
   ]
  },
  {
   "cell_type": "markdown",
   "metadata": {},
   "source": [
    "### Observations Based on the Data: \n",
    "\n",
    "(Some of these conclusion have been mentioned above as well...)\n",
    "\n",
    "NOTE: These are some rudimentry notes, the complete report can be found on the Project Report Page"
   ]
  },
  {
   "cell_type": "markdown",
   "metadata": {},
   "source": [
    "#### Conclusions Drawn from the Machine Learning Part\n",
    "\n",
    "--> 'totalyearlycompensation' has a Strong correlation with 'bonus' and 'stockgrantvaue'.\n",
    "\n",
    "--> In addition to that factors like 'yearsofexperience' and 'basesalary' have a good correlation.\n",
    "\n",
    "--> Surprisingly 'yearsatcompany' did not matter as much.\n",
    "\n",
    "--> The categorical data could not be used to create a high accuracy model, which indicates that they play a role in compensation, but not as much.\n",
    "\n",
    "--> The best algorithm with the highest accuracy is a DecisionTree Regression (97.5 % accuracy [when all data is provided])."
   ]
  },
  {
   "cell_type": "markdown",
   "metadata": {},
   "source": [
    "#### Conclusions Drawn from Data Exploration and Basic Analysis\n",
    "\n",
    "EDUCATION: \n",
    "\n",
    "--> PhD's get a significantly larger yearly compensation than all other education levels.\n",
    "\n",
    "--> High School and Undergraduates surprisingly do not have that big a pay gap.\n",
    "\n",
    "--> It is imperitive that we check for confounders and also take into consideration the case the sheer number of people in each educational degree (As shown in the diagram above).\n",
    "\n",
    "--> It was surpising to learn that there are more masters students...the order is as masters > bachelors > phD [upper-level-education]"
   ]
  },
  {
   "cell_type": "markdown",
   "metadata": {},
   "source": [
    "JOBS: \n",
    "\n",
    "--> The most common job was that of a Software Engineer\n",
    "\n",
    "--> The highest paying one is that of a Software Engineer Manager"
   ]
  },
  {
   "cell_type": "markdown",
   "metadata": {},
   "source": [
    "CHECKING FOR INEQUALITY in GENDER\n",
    "\n",
    "--> To check if there is still inequality based on Gender\n",
    "\n",
    "--> We can see that there are more male employee's\n",
    "\n",
    "--> We can also see a difference in Pay between genders"
   ]
  },
  {
   "cell_type": "markdown",
   "metadata": {},
   "source": [
    "### *************************************************************** END ****************************************************************************"
   ]
  }
 ],
 "metadata": {
  "interpreter": {
   "hash": "6f06ecb63574e2c9713ef98579ce4e5abab30e62f5ef13c5f1267572dab96c3d"
  },
  "kernelspec": {
   "display_name": "Python 3.8.8 64-bit ('base': conda)",
   "language": "python",
   "name": "python3"
  },
  "language_info": {
   "codemirror_mode": {
    "name": "ipython",
    "version": 3
   },
   "file_extension": ".py",
   "mimetype": "text/x-python",
   "name": "python",
   "nbconvert_exporter": "python",
   "pygments_lexer": "ipython3",
   "version": "3.8.8"
  },
  "orig_nbformat": 4
 },
 "nbformat": 4,
 "nbformat_minor": 2
}
